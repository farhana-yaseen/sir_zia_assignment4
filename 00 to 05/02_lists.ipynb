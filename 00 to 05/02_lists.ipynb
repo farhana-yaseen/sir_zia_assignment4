{
  "nbformat": 4,
  "nbformat_minor": 0,
  "metadata": {
    "colab": {
      "provenance": [],
      "authorship_tag": "ABX9TyMaWvFFMVNXiJDARSu0/9c1",
      "include_colab_link": true
    },
    "kernelspec": {
      "name": "python3",
      "display_name": "Python 3"
    },
    "language_info": {
      "name": "python"
    }
  },
  "cells": [
    {
      "cell_type": "markdown",
      "metadata": {
        "id": "view-in-github",
        "colab_type": "text"
      },
      "source": [
        "<a href=\"https://colab.research.google.com/github/farhana-yaseen/sir_zia_assignment4/blob/main/02_lists.ipynb\" target=\"_parent\"><img src=\"https://colab.research.google.com/assets/colab-badge.svg\" alt=\"Open In Colab\"/></a>"
      ]
    },
    {
      "cell_type": "markdown",
      "source": [
        "**01_add_many_number**"
      ],
      "metadata": {
        "id": "B3zrcnR0ERIT"
      }
    },
    {
      "cell_type": "code",
      "execution_count": null,
      "metadata": {
        "id": "eUOUJeDYEO53"
      },
      "outputs": [],
      "source": [
        "# Write a function that takes a list of numbers and returns the sum of those numbers.\n",
        "\n",
        "def add_many_numbers(numbers):\n",
        "  # The sum() function is used to add up all the elements in an iterable (like a list or tuple) and return the total.\n",
        "    return sum(numbers)\n",
        "\n",
        "def main():\n",
        "\n",
        "    numbers = [1, 2, 3, 4, 5]\n",
        "    sum_of_numbers = add_many_numbers(numbers)\n",
        "    print(sum_of_numbers)\n",
        "\n",
        "# This provided line is required at the end of\n",
        "# Python file to call the main() function.\n",
        "if __name__ == '__main__':\n",
        "    main()"
      ]
    },
    {
      "cell_type": "markdown",
      "source": [
        "**02_double_list**"
      ],
      "metadata": {
        "id": "_TjP3y4VGlDu"
      }
    },
    {
      "cell_type": "code",
      "source": [
        "# Write a program that doubles each element in a list of numbers.\n",
        "\n",
        "def main():\n",
        "    numbers = [1, 2, 3, 4, 5]\n",
        "    doubled_numbers = [number * 2 for number in numbers]   # [] means new list with the results\n",
        "\n",
        "    print(doubled_numbers)\n",
        "\n",
        "\n",
        "# This provided line is required at the end of\n",
        "# Python file to call the main() function.\n",
        "if __name__ == '__main__':\n",
        "    main()"
      ],
      "metadata": {
        "id": "yrG_Jt1mG1UK"
      },
      "execution_count": null,
      "outputs": []
    },
    {
      "cell_type": "markdown",
      "source": [
        "**03_erase_canvas**"
      ],
      "metadata": {
        "id": "2x8hfnsOIJcs"
      }
    },
    {
      "cell_type": "code",
      "source": [
        "from graphics import Canvas\n",
        "\n",
        "import time\n",
        "\n",
        "CANVAS_WIDTH  = 400\n",
        "CANVAS_HEIGHT = 400\n",
        "\n",
        "CELL_SIZE = 40\n",
        "ERASER_SIZE = 20\n",
        "\n",
        "def erase_objects(canvas, eraser):\n",
        "    \"\"\"Erase objects in contact with the eraser\"\"\"\n",
        "    # Get mouse info to help us know which cells to delete\n",
        "    mouse_x = canvas.get_mouse_x()\n",
        "    mouse_y = canvas.get_mouse_y()\n",
        "\n",
        "    # Calculate where our eraser is\n",
        "    left_x = mouse_x\n",
        "    top_y = mouse_y\n",
        "    right_x = left_x + ERASER_SIZE\n",
        "    bottom_y = top_y + ERASER_SIZE\n",
        "\n",
        "    # Find things that overlap with our eraser\n",
        "    overlapping_objects = canvas.find_overlapping(left_x, top_y, right_x, bottom_y)\n",
        "\n",
        "    # For everything that overlaps with our eraser (that isn't our eraser), change\n",
        "    # its color to white\n",
        "    for overlapping_object in overlapping_objects:\n",
        "        if overlapping_object != eraser:\n",
        "            canvas.set_color(overlapping_object, 'white')\n",
        "\n",
        "def main():\n",
        "\n",
        "  # canvas creation\n",
        "    canvas = Canvas(CANVAS_WIDTH, CANVAS_HEIGHT)\n",
        "\n",
        "    num_rows = CANVAS_HEIGHT // CELL_SIZE  # Figure out how many rows of cells we need\n",
        "    num_cols = CANVAS_WIDTH // CELL_SIZE   # Figure out how many columns of cells we need\n",
        "\n",
        "    # Make a grid of squares based on the number of rows and columns.\n",
        "    # The rows and columns along with our cell size help determine where\n",
        "    # each individual cell belongs in our grid!\n",
        "\n",
        "    for row in range(num_rows):\n",
        "        for col in range(num_cols):\n",
        "            left_x = col * CELL_SIZE\n",
        "            top_y = row * CELL_SIZE\n",
        "            right_x = left_x + CELL_SIZE   # The right coordinate of the cell is CELL_SIZE pixels away from the left\n",
        "            bottom_y = top_y + CELL_SIZE   # The bottom coordinate of the cell is CELL_SIZE pixels away from the top\n",
        "\n",
        "            # Create a single cell in the grid\n",
        "            cell = canvas.create_rectangle(left_x, top_y, right_x, bottom_y, 'blue')\n",
        "\n",
        "\n",
        "    canvas.wait_for_click()  # Wait for the user to click before creating the eraser\n",
        "\n",
        "    last_click_x, last_click_y = canvas.get_last_click()  # Get the starting location for the eraser\n",
        "\n",
        "    # Create our eraser\n",
        "    eraser = canvas.create_rectangle(\n",
        "        last_click_x,\n",
        "        last_click_y,\n",
        "        last_click_x + ERASER_SIZE,\n",
        "        last_click_y + ERASER_SIZE,\n",
        "        'pink'\n",
        "    )\n",
        "\n",
        "    # Move the eraser, and erase what it's touching\n",
        "    while True:\n",
        "        # Get where our mouse is and move the eraser to there\n",
        "        mouse_x = canvas.get_mouse_x()\n",
        "        mouse_y = canvas.get_mouse_y()\n",
        "        canvas.moveto(eraser, mouse_x, mouse_y)\n",
        "\n",
        "        # Erase anything touching the eraser\n",
        "        erase_objects(canvas, eraser)\n",
        "\n",
        "        time.sleep(0.05)\n",
        "\n",
        "\n",
        "if __name__ == '__main__':\n",
        "    main()"
      ],
      "metadata": {
        "id": "FGxGjqdVIP1u"
      },
      "execution_count": null,
      "outputs": []
    },
    {
      "cell_type": "markdown",
      "source": [
        "**04_flowing_with_data_structures**"
      ],
      "metadata": {
        "id": "q0zNbWs3Ji4v"
      }
    },
    {
      "cell_type": "code",
      "source": [
        "# The concept of immutable/mutable data types is called mutability.\n",
        "\n",
        "def add_three_copies(list_of_messages, message):\n",
        "\n",
        "  for i in range(3):\n",
        "    list_of_messages.append(message)\n",
        "\n",
        "\n",
        "def main():\n",
        "\n",
        "    message = input(\"Enter a message to copy: \")\n",
        "\n",
        "    list_of_messages = []\n",
        "\n",
        "    print(f\"List before:{list_of_messages}\")\n",
        "    add_three_copies(list_of_messages, message)\n",
        "    print(f\"List after: {list_of_messages}\")\n",
        "\n",
        "\n",
        "# This provided line is required at the end of\n",
        "# Python file to call the main() function.\n",
        "if __name__ == '__main__':\n",
        "    main()\n",
        "\n"
      ],
      "metadata": {
        "id": "oq7GvxZ2JkVI"
      },
      "execution_count": null,
      "outputs": []
    },
    {
      "cell_type": "markdown",
      "source": [
        "**05_get_first_element**"
      ],
      "metadata": {
        "id": "u85aul7cOf_y"
      }
    },
    {
      "cell_type": "code",
      "source": [
        "def get_first_element(user_list):\n",
        "    # Print the first element of the list\n",
        "    print(\"The first element is:\", user_list[0])\n",
        "\n",
        "\n",
        "def get_1st():\n",
        "\n",
        "  # Initialize an empty list\n",
        "  user_list = []\n",
        "\n",
        "  # Prompt the user to enter the\n",
        "  element = input(\"Please enter an element of the list or press enter to stop. \")\n",
        "\n",
        "  while element != \"\":\n",
        "    user_list.append(element)\n",
        "    element = input(\"Please enter an element of the list or press enter to stop. \")\n",
        "  return user_list\n",
        "\n",
        "def main():\n",
        "  user_list = get_1st()\n",
        "  get_first_element(user_list)\n",
        "\n",
        "# This provided line is required at the end of\n",
        "# Python file to call the main() function.\n",
        "if __name__ == '__main__':\n",
        "    main()"
      ],
      "metadata": {
        "id": "6_4zWeCzOpfJ"
      },
      "execution_count": null,
      "outputs": []
    },
    {
      "cell_type": "markdown",
      "source": [
        "**06_get_last_element**"
      ],
      "metadata": {
        "id": "grwRtO9FTlW4"
      }
    },
    {
      "cell_type": "code",
      "source": [
        "\n",
        "def get_last_element(user_list):\n",
        "    # Print the first element of the list\n",
        "    print(\"The last element is:\", user_list[-1])\n",
        "\n",
        "\n",
        "def get_last():\n",
        "\n",
        "  # Initialize an empty list\n",
        "  user_list = []\n",
        "\n",
        "  # Prompt the user to enter the\n",
        "  element = input(\"Please enter an element of the list or press enter to stop. \")\n",
        "\n",
        "  while element != \"\":\n",
        "    user_list.append(element)\n",
        "    element = input(\"Please enter an element of the list or press enter to stop. \")\n",
        "  return user_list\n",
        "\n",
        "def main():\n",
        "  user_list = get_last()\n",
        "  get_last_element(user_list)\n",
        "\n",
        "# This provided line is required at the end of\n",
        "# Python file to call the main() function.\n",
        "if __name__ == '__main__':\n",
        "    main()"
      ],
      "metadata": {
        "id": "Xa3MKX1QTtsQ"
      },
      "execution_count": null,
      "outputs": []
    },
    {
      "cell_type": "markdown",
      "source": [
        "**07_get_list**"
      ],
      "metadata": {
        "id": "WErrJw9XVN2w"
      }
    },
    {
      "cell_type": "code",
      "source": [
        "# Write a program which continuously asks the user to enter values which are added one by one into a list. When the user presses enter without typing anything, print the list.\n",
        "\n",
        "def main():\n",
        "    user_list = []\n",
        "    element = input(\"Please enter a value of the list or press enter to stop. \")\n",
        "\n",
        "    while element != \"\":\n",
        "        user_list.append(element)\n",
        "        element = input(\"Please enter a value of the list or press enter to stop. \")\n",
        "\n",
        "    print(f\"Here's the list: {user_list}\")\n",
        "\n",
        "\n",
        "# This provided line is required at the end of\n",
        "# Python file to call the main() function.\n",
        "if __name__ == '__main__':\n",
        "    main()"
      ],
      "metadata": {
        "id": "EAgrKN0lVcY1"
      },
      "execution_count": null,
      "outputs": []
    },
    {
      "cell_type": "markdown",
      "source": [
        "**08_shorten**"
      ],
      "metadata": {
        "id": "1cXSNsrHWsb5"
      }
    },
    {
      "cell_type": "code",
      "source": [
        "MAX_LENGTH = 3  # Set to 3 for autograder\n",
        "\n",
        "def shorten(lst):\n",
        "    while len(lst) > MAX_LENGTH:\n",
        "        removed_item = lst.pop()  # Remove from end\n",
        "        print(removed_item)       # Print the removed item\n",
        "\n",
        "def main():\n",
        "\n",
        "    test_list = [1, 2, 3, 4, 5]\n",
        "    shorten(test_list)\n",
        "    print(f\"Final list: {test_list}\")\n",
        "\n",
        "# Only run main if this file is being run directly\n",
        "if __name__ == \"__main__\":\n",
        "    main()\n"
      ],
      "metadata": {
        "id": "JrPz-nzyXUBl"
      },
      "execution_count": null,
      "outputs": []
    }
  ]
}