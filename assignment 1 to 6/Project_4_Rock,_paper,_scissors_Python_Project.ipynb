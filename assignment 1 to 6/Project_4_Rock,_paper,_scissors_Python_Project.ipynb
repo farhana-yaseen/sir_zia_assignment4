{
  "nbformat": 4,
  "nbformat_minor": 0,
  "metadata": {
    "colab": {
      "provenance": [],
      "authorship_tag": "ABX9TyNtaIFK/BbyqRreul2Ub9e2",
      "include_colab_link": true
    },
    "kernelspec": {
      "name": "python3",
      "display_name": "Python 3"
    },
    "language_info": {
      "name": "python"
    }
  },
  "cells": [
    {
      "cell_type": "markdown",
      "metadata": {
        "id": "view-in-github",
        "colab_type": "text"
      },
      "source": [
        "<a href=\"https://colab.research.google.com/github/farhana-yaseen/sir_zia_assignment4/blob/main/Project_4_Rock%2C_paper%2C_scissors_Python_Project.ipynb\" target=\"_parent\"><img src=\"https://colab.research.google.com/assets/colab-badge.svg\" alt=\"Open In Colab\"/></a>"
      ]
    },
    {
      "cell_type": "markdown",
      "source": [
        "**Rock, paper, scissors Python Project**"
      ],
      "metadata": {
        "id": "0m7dPo3PClMs"
      }
    },
    {
      "cell_type": "code",
      "execution_count": null,
      "metadata": {
        "id": "b_p2xk7cCdL4"
      },
      "outputs": [],
      "source": [
        "import random\n",
        "\n",
        "\n",
        "def is_win(player, opponent):\n",
        "      # r > p > s > r\n",
        "      if (player == \"r\" and opponent == \"s\") or (player == \"s\" and opponent == \"p\") or (player == \"p\" and opponent == \"r\"):\n",
        "        return True\n",
        "      return False\n",
        "\n",
        "\n",
        "def main():\n",
        "\n",
        "        user = input(\"What's your choice? 'r' for rock, 'p' for paper, 's' for scissors\\n\")\n",
        "\n",
        "        # Validate user input\n",
        "        if user not in ['r', 'p', 's']:\n",
        "          print(\"Invalid choice. Please choose 'r', 'p', or 's'.\")\n",
        "\n",
        "        # choose random choice means everytime choose new\n",
        "        computer = random.choice(['r', 'p', 's'])\n",
        "\n",
        "        if user == computer:\n",
        "          return \"It's a tie!\"\n",
        "\n",
        "        if is_win(user, computer):\n",
        "          return \"You won!\"\n",
        "\n",
        "        return 'You lost!'\n",
        "\n",
        "if __name__ == \"__main__\":\n",
        "    print(main())"
      ]
    }
  ]
}