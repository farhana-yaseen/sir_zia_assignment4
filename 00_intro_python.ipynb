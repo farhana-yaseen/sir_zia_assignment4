{
  "nbformat": 4,
  "nbformat_minor": 0,
  "metadata": {
    "colab": {
      "provenance": [],
      "authorship_tag": "ABX9TyO9ED81nwj/5DlZSF8gzX+C",
      "include_colab_link": true
    },
    "kernelspec": {
      "name": "python3",
      "display_name": "Python 3"
    },
    "language_info": {
      "name": "python"
    }
  },
  "cells": [
    {
      "cell_type": "markdown",
      "metadata": {
        "id": "view-in-github",
        "colab_type": "text"
      },
      "source": [
        "<a href=\"https://colab.research.google.com/github/farhana-yaseen/sir_zia_assignment4/blob/main/00_intro_python.ipynb\" target=\"_parent\"><img src=\"https://colab.research.google.com/assets/colab-badge.svg\" alt=\"Open In Colab\"/></a>"
      ]
    },
    {
      "cell_type": "markdown",
      "source": [
        "**01_add_two_numbers**"
      ],
      "metadata": {
        "id": "mXaEl8i3wsaJ"
      }
    },
    {
      "cell_type": "code",
      "execution_count": null,
      "metadata": {
        "id": "rmGNtVGLwdPu"
      },
      "outputs": [],
      "source": [
        "def main():\n",
        "  print(\"This program adds two numbers.\\n\")\n",
        "\n",
        "  # Prompt the user to enter the first number.\n",
        "  first_number = input(\"Enter the first number:\")\n",
        "\n",
        "  # Read the input and convert it to an integer.\n",
        "  first_number = int(first_number)\n",
        "\n",
        "  # Prompt the user to enter the second number.\n",
        "  second_number = input(\"Enter the second\")\n",
        "\n",
        "  # Read the input and convert it to an integer.\n",
        "  second_number = int(second_number)\n",
        "\n",
        "  # Calculate the sum of the two numbers.\n",
        "  sum = first_number + second_number\n",
        "\n",
        "  # Print the total sum with an appropriate message.\n",
        "  print(f\"The sum of {first_number} and {second_number} is {sum}\")\n",
        "\n",
        "\n",
        "# This provided line is required at the end of\n",
        "# Python file to call the main() function.\n",
        "if __name__ == '__main__':\n",
        "    main()\n",
        "\n"
      ]
    },
    {
      "cell_type": "markdown",
      "source": [
        "**02_agreement_bot**"
      ],
      "metadata": {
        "id": "SduOKy8k1EXl"
      }
    },
    {
      "cell_type": "code",
      "source": [
        "# Write a program which asks the user what their favorite animal is, and then always responds with \"My favorite animal is also ___!\"\n",
        "\n",
        "def main():\n",
        "  print(\"This program is about asking user Favorite Animal.\\n\")\n",
        "\n",
        "\n",
        "  animal = input(\"What's your favorite animal? \").capitalize()\n",
        "\n",
        "  # ANSI escape codes for bold and italic (\\033[1m) = Bold (\\033[3m) = Italic (\\033[0m) = Reset all formatting\n",
        "  bold_italic = f\"\\033[1;3m{animal}\\033[0m\"\n",
        "\n",
        "  # Print the message.\n",
        "  print(f\"My favorite animal is also {bold_italic}!\")\n",
        "\n",
        "\n",
        "# This provided line is required at the end of\n",
        "# Python file to call the main() function.\n",
        "if __name__ == '__main__':\n",
        "    main()"
      ],
      "metadata": {
        "id": "SE8ZJffG1Dqr"
      },
      "execution_count": null,
      "outputs": []
    },
    {
      "cell_type": "markdown",
      "source": [
        "**03_fahrenheit_to_celsius**"
      ],
      "metadata": {
        "id": "rjBuU6JU5V2_"
      }
    },
    {
      "cell_type": "code",
      "source": [
        "def main():\n",
        "  print(\"Temperature in Fahrenheit and outputs the temperature converted to Celsius.\\n\")\n",
        "\n",
        "  degrees_fahrenheit = float(input(\"Enter the temperature in Fahrenheit: \"))\n",
        "\n",
        "  # Convert Fahrenheit to Celsius\n",
        "  degrees_celsius = (degrees_fahrenheit - 32) * 5.0/9.0\n",
        "\n",
        "  print(f\"Temperature: \\033[1;3m{degrees_fahrenheit}F\\033[0m = {degrees_celsius}C\")\n",
        "\n",
        "\n",
        "# This provided line is required at the end of\n",
        "# Python file to call the main() function.\n",
        "if __name__ == '__main__':\n",
        "    main()"
      ],
      "metadata": {
        "id": "cY9Ei4nI5frT"
      },
      "execution_count": null,
      "outputs": []
    },
    {
      "cell_type": "markdown",
      "source": [
        "**04_how_old_are_they**"
      ],
      "metadata": {
        "id": "UCxk3rwH-V0O"
      }
    },
    {
      "cell_type": "code",
      "source": [
        "# Anton is 21 years old.\n",
        "# Beth is 6 years older than Anton.\n",
        "# Chen is 20 years older than Beth.\n",
        "# Drew is as old as Chen's age plus Anton's age.\n",
        "# Ethan is the same age as Chen.\n",
        "\n",
        "def main():\n",
        "  print(\"This program calculates the ages of Anton, Beth, Chen, Drew, and Ethan.\\n\")\n",
        "\n",
        "  # Define the ages of Anton, Beth, Chen, Drew, and Ethan.\n",
        "  anton_age = 21\n",
        "  beth_age = anton_age + 6\n",
        "  chen_age = beth_age + 20\n",
        "  drew_age = chen_age + anton_age\n",
        "  ethan_age = chen_age\n",
        "\n",
        "  # print their names and ages\n",
        "  print(f\"Anton is {anton_age}\")\n",
        "  print(f\"Beth is {beth_age}\")\n",
        "  print(f\"Chen is {chen_age}\")\n",
        "  print(f\"Drew is {drew_age}\")\n",
        "  print(f\"Ethan is {ethan_age}\")\n",
        "\n",
        "\n",
        "# This provided line is required at the end of\n",
        "# Python file to call the main() function.\n",
        "if __name__ == '__main__':\n",
        "    main()\n"
      ],
      "metadata": {
        "id": "3czgT9up-Ytm"
      },
      "execution_count": null,
      "outputs": []
    },
    {
      "cell_type": "markdown",
      "source": [
        "**05_triangle_perimeter**"
      ],
      "metadata": {
        "id": "uzLzyjkUDod9"
      }
    },
    {
      "cell_type": "code",
      "source": [
        "# Prompt the user to enter the lengths of each side of a triangle and then calculate and print the perimeter of the triangle (the sum of all of the side lengths).\n",
        "\n",
        "def main():\n",
        "\n",
        "  print(\"This program calculates the perimeter of a triangle.\\n\")\n",
        "\n",
        "  # Prompt the user to enter the lengths of each side of a triangle\n",
        "  side1 = float(input(\"What is the length of side 1? \"))\n",
        "  side2 = float(input(\"What is the length of side 2? \"))\n",
        "  side3 = float(input(\"What is the length of side 3? \"))\n",
        "\n",
        "  # the sum of all of the side lengths\n",
        "  perimeter = side1 + side2 + side3\n",
        "\n",
        "  # print the perimeter of the triangle\n",
        "  print(f\"The perimeter of the triangle is \\033[1;3m{perimeter}\\033[0m\")\n",
        "\n",
        "\n",
        "# This provided line is required at the end of\n",
        "# Python file to call the main() function.\n",
        "if __name__ == '__main__':\n",
        "    main()\n",
        "\n",
        "\n"
      ],
      "metadata": {
        "colab": {
          "base_uri": "https://localhost:8080/"
        },
        "id": "_aPlSQWZDrSn",
        "outputId": "c5cfb213-e36f-4a5c-b835-0ecefbf027b8"
      },
      "execution_count": null,
      "outputs": [
        {
          "output_type": "stream",
          "name": "stdout",
          "text": [
            "This program calculates the perimeter of a triangle.\n",
            "\n",
            "What is the length of side 1? 22\n",
            "What is the length of side 2? 55\n",
            "What is the length of side 3? 6\n",
            "The perimeter of the triangle is \u001b[1;3m83.0\u001b[0m\n"
          ]
        }
      ]
    },
    {
      "cell_type": "markdown",
      "source": [
        "**06_square_number**"
      ],
      "metadata": {
        "id": "KUr5IgHDFRN8"
      }
    },
    {
      "cell_type": "code",
      "source": [
        "# Ask the user for a number and print its square (the product of the number times itself).\n",
        "\n",
        "def main():\n",
        "\n",
        "  print(\"This program calculates the square of a number.\\n\")\n",
        "\n",
        "  # Prompt the user to enter a number\n",
        "  number = float(input(\"Type a number to see its square: \"))\n",
        "  print(f\"\\033[1;3m{number}\\033[0m squared is {number*number}\")\n",
        "\n",
        "# This provided line is required at the end of\n",
        "# Python file to call the main() function.\n",
        "if __name__ == '__main__':\n",
        "    main()"
      ],
      "metadata": {
        "colab": {
          "base_uri": "https://localhost:8080/"
        },
        "id": "5aZ8xNuLFTO-",
        "outputId": "14cc9847-ac55-41bc-f557-5711f6cbdb50"
      },
      "execution_count": null,
      "outputs": [
        {
          "output_type": "stream",
          "name": "stdout",
          "text": [
            "Type a number to see its square: 4\n",
            "\u001b[1;3m4.0\u001b[0m squared is 16.0\n"
          ]
        }
      ]
    }
  ]
}