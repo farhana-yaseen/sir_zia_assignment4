{
  "nbformat": 4,
  "nbformat_minor": 0,
  "metadata": {
    "colab": {
      "provenance": [],
      "authorship_tag": "ABX9TyPuB3GY8lbpGlqYfpOFWALC",
      "include_colab_link": true
    },
    "kernelspec": {
      "name": "python3",
      "display_name": "Python 3"
    },
    "language_info": {
      "name": "python"
    }
  },
  "cells": [
    {
      "cell_type": "markdown",
      "metadata": {
        "id": "view-in-github",
        "colab_type": "text"
      },
      "source": [
        "<a href=\"https://colab.research.google.com/github/farhana-yaseen/sir_zia_assignment4/blob/main/Weather_Program.ipynb\" target=\"_parent\"><img src=\"https://colab.research.google.com/assets/colab-badge.svg\" alt=\"Open In Colab\"/></a>"
      ]
    },
    {
      "cell_type": "markdown",
      "source": [
        "**Weather Program Python Project**"
      ],
      "metadata": {
        "id": "eRgi13hDzd4d"
      }
    },
    {
      "cell_type": "code",
      "source": [
        "!pip install requests"
      ],
      "metadata": {
        "id": "FqfkTf-2Holm"
      },
      "execution_count": null,
      "outputs": []
    },
    {
      "cell_type": "code",
      "execution_count": null,
      "metadata": {
        "id": "nWisXhL0zUtF"
      },
      "outputs": [],
      "source": [
        "\n",
        "import requests\n",
        "from pprint import pprint\n",
        "\n",
        "# first login on openwheather website and get this key\n",
        "API_KEY = '9123ee15d86a18c95c16240648ec5310'\n",
        "\n",
        "city = input(\"Enter your city name: \")\n",
        "\n",
        "# get current weather data folder (api call)\n",
        "base_url = \"http://api.openweathermap.org/data/2.5/weather?\"\n",
        "\n",
        "complete_url = base_url + \"appid=\" + API_KEY + \"&q=\" + city\n",
        "\n",
        "weather_data = requests.get(complete_url).json()\n",
        "\n",
        "pprint(weather_data)\n",
        "\n",
        "\n",
        "\n",
        "\n"
      ]
    }
  ]
}