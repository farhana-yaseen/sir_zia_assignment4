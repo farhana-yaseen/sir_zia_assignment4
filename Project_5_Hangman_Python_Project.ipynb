{
  "nbformat": 4,
  "nbformat_minor": 0,
  "metadata": {
    "colab": {
      "provenance": [],
      "authorship_tag": "ABX9TyOLTFyOMIjtXSq5VzDDgNvJ",
      "include_colab_link": true
    },
    "kernelspec": {
      "name": "python3",
      "display_name": "Python 3"
    },
    "language_info": {
      "name": "python"
    }
  },
  "cells": [
    {
      "cell_type": "markdown",
      "metadata": {
        "id": "view-in-github",
        "colab_type": "text"
      },
      "source": [
        "<a href=\"https://colab.research.google.com/github/farhana-yaseen/sir_zia_assignment4/blob/main/Project_5_Hangman_Python_Project.ipynb\" target=\"_parent\"><img src=\"https://colab.research.google.com/assets/colab-badge.svg\" alt=\"Open In Colab\"/></a>"
      ]
    },
    {
      "cell_type": "markdown",
      "source": [
        "**Hangman Python Project**"
      ],
      "metadata": {
        "id": "RlnuTNczQ41t"
      }
    },
    {
      "cell_type": "code",
      "source": [
        "import random\n",
        "import string\n",
        "\n",
        "# Upload the words.py file\n",
        "from google.colab import files\n",
        "\n",
        "# import file\n",
        "from words import words\n",
        "\n",
        "def get_valid_word(words):\n",
        "  word = random.choice(words).upper()\n",
        "  while \"-\" in word or \" \" in word:\n",
        "    word = random.choice(words)\n",
        "  return word\n",
        "\n",
        "def main():\n",
        "\n",
        "  word = get_valid_word(words)   # get random word\n",
        "  word_letter = set(word)     # python become \"p\",\"y\", \"t\", \"h\", \"o\", \"n\"\n",
        "  alphabet = set(string.ascii_uppercase)   # A to Z (\"A\", \"C\", \"B\", \"E\")\n",
        "  guessed_letters = set()   # what user has guessed\n",
        "  lives = 6\n",
        "\n",
        "  while len(word_letter) > 0 and lives > 0:\n",
        "\n",
        "      # print(\"You have guessed this letters\", \" \".join(guessed_letters))\n",
        "      word_list = [letter if letter in guessed_letters else \"-\" for letter in word]   # if letter exist in guessed_letter assign this letter into word_list otherwise \"-\".\n",
        "      print(\" \".join(word_list))\n",
        "\n",
        "      # user input\n",
        "      user_letter = input(\"Guess a Letter: \").upper()\n",
        "\n",
        "      if user_letter in alphabet and user_letter not in guessed_letters:\n",
        "        guessed_letters.add(user_letter)\n",
        "\n",
        "        if user_letter in word_letter:\n",
        "          word_letter.remove(user_letter)\n",
        "        else:\n",
        "          lives -= 1\n",
        "          print(f\"This letter is not in word.\")\n",
        "          print(f\"You have {lives} lives left.\")\n",
        "\n",
        "      elif user_letter in guessed_letters:\n",
        "          print(\"You have already guessed that letter. Guess another letter.\")\n",
        "      else:\n",
        "         print(\"Invalid character. Please try again.\")\n",
        "\n",
        "  if lives == 0:\n",
        "      print(f\"You lose, the word was {word}\")\n",
        "  else:\n",
        "      print(f\"Congratulations! You guessed the word: {word}\")\n",
        "\n",
        "\n",
        "\n",
        "if __name__ == \"__main__\":\n",
        "    main()"
      ],
      "metadata": {
        "id": "AvNwPioDmhhm"
      },
      "execution_count": null,
      "outputs": []
    }
  ]
}