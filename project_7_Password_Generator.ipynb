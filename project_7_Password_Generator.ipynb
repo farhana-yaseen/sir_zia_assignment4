{
  "nbformat": 4,
  "nbformat_minor": 0,
  "metadata": {
    "colab": {
      "provenance": [],
      "authorship_tag": "ABX9TyMIQ5Nd5QDgNolEFILnS/i/",
      "include_colab_link": true
    },
    "kernelspec": {
      "name": "python3",
      "display_name": "Python 3"
    },
    "language_info": {
      "name": "python"
    }
  },
  "cells": [
    {
      "cell_type": "markdown",
      "metadata": {
        "id": "view-in-github",
        "colab_type": "text"
      },
      "source": [
        "<a href=\"https://colab.research.google.com/github/farhana-yaseen/sir_zia_assignment4/blob/main/project_7_Password_Generator.ipynb\" target=\"_parent\"><img src=\"https://colab.research.google.com/assets/colab-badge.svg\" alt=\"Open In Colab\"/></a>"
      ]
    },
    {
      "cell_type": "markdown",
      "source": [
        "**Password Generator Python Project**"
      ],
      "metadata": {
        "id": "aok5iQusMDRg"
      }
    },
    {
      "cell_type": "code",
      "execution_count": 9,
      "metadata": {
        "colab": {
          "base_uri": "https://localhost:8080/"
        },
        "id": "jqf8M4ayL0cY",
        "outputId": "f22bfe78-339e-4b6a-d824-fec78ab94b43"
      },
      "outputs": [
        {
          "output_type": "stream",
          "name": "stdout",
          "text": [
            "Password Genertor\n",
            "------------------\n",
            "\n",
            "Enter the number of passwords to generate: 5\n",
            "Enter the length of the password: 10\n",
            "HlB*sIknrX\n",
            "GT36pjO(#V\n",
            "iHhm0ksTBC\n",
            "(B@wfeRfvA\n",
            "vq(3mHCsZv\n"
          ]
        }
      ],
      "source": [
        "import random\n",
        "\n",
        "def main():\n",
        "\n",
        "  print(\"Password Genertor\")\n",
        "  print(\"-\"*18 + \"\\n\")\n",
        "\n",
        "  chars = \"abcdefghijklmnopqrstuvwxyzABCDEFGHIJKLMNOPQRSTUVWXYZ1234567890!@#$%^&*()_+\"\n",
        "\n",
        "  number = int(input(\"Enter the number of passwords to generate: \"))\n",
        "\n",
        "  password_length = int(input(\"Enter the length of the password: \"))\n",
        "\n",
        "  for p in range(number):\n",
        "    password = \"\"\n",
        "\n",
        "    for l in range(password_length):\n",
        "      password += random.choice(chars)\n",
        "\n",
        "    print(password)\n",
        "\n",
        "\n",
        "if __name__ == \"__main__\":\n",
        "  main()"
      ]
    }
  ]
}