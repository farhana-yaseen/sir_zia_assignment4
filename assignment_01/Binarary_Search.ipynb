{
  "nbformat": 4,
  "nbformat_minor": 0,
  "metadata": {
    "colab": {
      "provenance": [],
      "authorship_tag": "ABX9TyNH64tR8xIV7P1gge0yQEA7",
      "include_colab_link": true
    },
    "kernelspec": {
      "name": "python3",
      "display_name": "Python 3"
    },
    "language_info": {
      "name": "python"
    }
  },
  "cells": [
    {
      "cell_type": "markdown",
      "metadata": {
        "id": "view-in-github",
        "colab_type": "text"
      },
      "source": [
        "<a href=\"https://colab.research.google.com/github/farhana-yaseen/sir_zia_assignment4/blob/main/Binarary_Search.ipynb\" target=\"_parent\"><img src=\"https://colab.research.google.com/assets/colab-badge.svg\" alt=\"Open In Colab\"/></a>"
      ]
    },
    {
      "cell_type": "markdown",
      "source": [
        "**Binary Search Python Project**"
      ],
      "metadata": {
        "id": "SbAdaTijokiV"
      }
    },
    {
      "cell_type": "code",
      "source": [
        "import random\n",
        "import time\n",
        "\n",
        "# Naive Search Function\n",
        "def naive_search(arr, target):\n",
        "  for i in range(len(arr)):\n",
        "    if arr[i] == target:\n",
        "      return i\n",
        "  else:\n",
        "    return -1\n",
        "\n",
        "# Binary Search Function\n",
        "# Binary search: divides the list in half and recursively searches in the correct half.\n",
        "def binary_search(arr, target, low=None, high=None):\n",
        "  if low is None:\n",
        "    low = 0\n",
        "\n",
        "  if high is None:\n",
        "    high = len(arr) - 1\n",
        "\n",
        "  if high < low:\n",
        "    return -1\n",
        "\n",
        "  midpoint = (low + high) //2\n",
        "\n",
        "  if target == arr[midpoint]:\n",
        "    return midpoint\n",
        "  elif target < arr[midpoint]:\n",
        "    return binary_search(arr, target, low, midpoint-1)\n",
        "  else:\n",
        "    return binary_search(arr, target, midpoint+1, high)\n",
        "# arr = [1,2,3,4,5,6,7,8,9,10]\n",
        "# target = 6\n",
        "\n",
        "# print(naive_search(arr, target))\n",
        "# print(binary_search(arr, target))\n",
        "\n",
        "# Creating a Large Sorted Array\n",
        "length = 10000\n",
        "sorted_arr = set()\n",
        "while len(sorted_arr) < length:\n",
        "  #Creates a sorted list of 10,000 unique random integers between -30000 and 30000.\n",
        "  sorted_arr.add(random.randint(-3*length, 3*length))\n",
        "sorted_arr = sorted(sorted_arr)\n",
        "\n",
        "# Naive Search Timing\n",
        "start = time.time()\n",
        "for target in sorted_arr:\n",
        "  naive_search(sorted_arr, target)\n",
        "end = time.time()\n",
        "print(\"Naive search time: \", (end - start)/length, \"seconds\")\n",
        "\n",
        "# Binary Search Timing\n",
        "start = time.time()\n",
        "for target in sorted_arr:\n",
        "  binary_search(sorted_arr, target)\n",
        "end = time.time()\n",
        "print(\"Binary search time: \", (end - start)/length, \"seconds\")\n"
      ],
      "metadata": {
        "id": "gmzeQlcDqBM9"
      },
      "execution_count": null,
      "outputs": []
    }
  ]
}