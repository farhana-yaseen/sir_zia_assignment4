{
  "nbformat": 4,
  "nbformat_minor": 0,
  "metadata": {
    "colab": {
      "provenance": [],
      "authorship_tag": "ABX9TyPAFrXYE2OYBj/LhbMEZBGg",
      "include_colab_link": true
    },
    "kernelspec": {
      "name": "python3",
      "display_name": "Python 3"
    },
    "language_info": {
      "name": "python"
    }
  },
  "cells": [
    {
      "cell_type": "markdown",
      "metadata": {
        "id": "view-in-github",
        "colab_type": "text"
      },
      "source": [
        "<a href=\"https://colab.research.google.com/github/farhana-yaseen/sir_zia_assignment4/blob/main/Lists_Dicts.ipynb\" target=\"_parent\"><img src=\"https://colab.research.google.com/assets/colab-badge.svg\" alt=\"Open In Colab\"/></a>"
      ]
    },
    {
      "cell_type": "markdown",
      "source": [
        "# **Problem #1: List Practice**"
      ],
      "metadata": {
        "id": "JQ1gXqmRUhRl"
      }
    },
    {
      "cell_type": "code",
      "execution_count": null,
      "metadata": {
        "id": "u96RDJUhUdL8"
      },
      "outputs": [],
      "source": [
        "\n",
        "def main():\n",
        "    fruit_list = ['apple', 'banana', 'orange', 'grape', 'pineapple']\n",
        "\n",
        "    # Print the length of the list.\n",
        "    print(f\"The length of the list is {len(fruit_list)}.\")\n",
        "\n",
        "    # Add 'mango' at the end of the list.\n",
        "    fruit_list.append(\"mango\")\n",
        "\n",
        "    # Print the updated list.\n",
        "    print(f\"Updated List: {fruit_list}.\")\n",
        "\n",
        "\n",
        "\n",
        "if __name__ == \"__main__\":\n",
        "    main()"
      ]
    },
    {
      "cell_type": "markdown",
      "source": [
        "**Problem #2: Index Game**"
      ],
      "metadata": {
        "id": "TMFok-clWyYu"
      }
    },
    {
      "cell_type": "code",
      "source": [
        "\n",
        "# Accepts a list and an index as inputs. Returns the element at the specified index. If the index is out of range, return an appropriate message.\n",
        "\n",
        "def access_element(my_list, index):\n",
        "    try:\n",
        "        return my_list[index]\n",
        "    except IndexError:\n",
        "        return \"Index out of range.\"\n",
        "\n",
        "# Modifying Elements:Replaces the element at the specified index with the new value.\n",
        "def modify_element(my_list, index, new_value):\n",
        "    try:\n",
        "        my_list[index] = new_value\n",
        "        return my_list\n",
        "    except IndexError:\n",
        "        return \"Index out of range.\"\n",
        "\n",
        "# Modifying Elements:Returns a new list containing the elements from the start index up to (but not including) the end index.\n",
        "def slice_list(my_list, start, end):\n",
        "    return my_list[start:end]\n",
        "\n",
        "\n",
        "def main():\n",
        "\n",
        "    # Initialize a List: Create a list with at least 5 different elements. They can be numbers, strings, or a mix of both.\n",
        "    my_list = [1, 2, \"abc1\", \"four\", \"pakistan\"]\n",
        "\n",
        "    # Prompts the user to select an operation (access, modify, slice). Asks for the necessary inputs (index, new value, etc.).Displays the result and the updated list.\n",
        "    operation = input(\"Select an operation (access, modify, slice): \").strip().lower()\n",
        "    if operation == \"access\":\n",
        "        index = int(input(\"Enter the index: \"))\n",
        "        print(access_element(my_list, index))\n",
        "    elif operation == \"modify\":\n",
        "        index = int(input(\"Enter the index: \"))\n",
        "        new_value = input(\"Enter the new value: \")\n",
        "        print(modify_element(my_list, index, new_value))\n",
        "    elif operation == \"slice\":\n",
        "        start = int(input(\"Enter the start index: \"))\n",
        "        end = int(input(\"Enter the end index: \"))\n",
        "        print(slice_list(my_list, start, end))\n",
        "    else:\n",
        "        print(\"Invalid operation.\")\n",
        "\n",
        "\n",
        "if __name__ == \"__main__\":\n",
        "    main()"
      ],
      "metadata": {
        "id": "vX5ZUkn-XB6M"
      },
      "execution_count": null,
      "outputs": []
    }
  ]
}