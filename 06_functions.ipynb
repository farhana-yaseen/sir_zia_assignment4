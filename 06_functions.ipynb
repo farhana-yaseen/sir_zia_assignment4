{
  "cells": [
    {
      "cell_type": "markdown",
      "metadata": {
        "id": "view-in-github",
        "colab_type": "text"
      },
      "source": [
        "<a href=\"https://colab.research.google.com/github/farhana-yaseen/sir_zia_assignment4/blob/main/06_functions.ipynb\" target=\"_parent\"><img src=\"https://colab.research.google.com/assets/colab-badge.svg\" alt=\"Open In Colab\"/></a>"
      ]
    },
    {
      "cell_type": "markdown",
      "metadata": {
        "id": "N6uAaOxDEojc"
      },
      "source": [
        "**00_averages**"
      ]
    },
    {
      "cell_type": "code",
      "execution_count": null,
      "metadata": {
        "id": "cFBg6JaYEaAP"
      },
      "outputs": [],
      "source": [
        "# Write a function that takes two numbers and finds the average between the two.\n",
        "\n",
        "def average(num1, num2):\n",
        "  sum = num1 + num2\n",
        "  avg = sum / 2\n",
        "  return avg\n",
        "\n",
        "\n",
        "def main():\n",
        "  average1 = average(0,20)\n",
        "  average2 = average(25,40)\n",
        "\n",
        "  final = average(average1, average2)\n",
        "\n",
        "  print(f\"Average: {average1}\")\n",
        "  print(f\"Average2: {average2}\")\n",
        "  print(f\"Final: {final}\")\n",
        "\n",
        "\n",
        "# This provided line is required at the end of\n",
        "# Python file to call the main() function.\n",
        "if __name__ == '__main__':\n",
        "    main()"
      ]
    },
    {
      "cell_type": "markdown",
      "metadata": {
        "id": "7Fa-fkQEEr5B"
      },
      "source": [
        "**01_chaotic_counting**"
      ]
    },
    {
      "cell_type": "code",
      "execution_count": null,
      "metadata": {
        "id": "2XHi1Ox9EyVN"
      },
      "outputs": [],
      "source": [
        "import random\n",
        "\n",
        "# This constant controls how likely we are to be \"done\"\n",
        "DONE_LIKELIHOOD = 0.2  # a float between 0 and 1\n",
        "\n",
        "# Generate random number\n",
        "def done():\n",
        "  # It generates a random float number between 0.0 and 1.0 (not including 1.0).For example: 0.02, 0.65, 0.999, etc.\n",
        "  return random.random() < DONE_LIKELIHOOD\n",
        "\n",
        "def chaotic_counting():\n",
        "  for i in range(1, 11):\n",
        "    if done():\n",
        "      return  # this ends the function execution, so we'll get back to the main() function!\n",
        "    print(i, end=\" \")\n",
        "\n",
        "\n",
        "def main():\n",
        "    print(\"I'm going to count until 10 or until I feel like stopping, whichever comes first.\")\n",
        "    chaotic_counting()\n",
        "    print(\"I'm done.\")\n",
        "\n",
        "# This provided line is required at the end of\n",
        "# Python file to call the main() function.\n",
        "if __name__ == '__main__':\n",
        "    main()\n"
      ]
    },
    {
      "cell_type": "markdown",
      "metadata": {
        "id": "gDG_xTzFE3Rz"
      },
      "source": [
        "***02_count_even***"
      ]
    },
    {
      "cell_type": "code",
      "execution_count": null,
      "metadata": {
        "id": "Q4S8j0a-E5Bv"
      },
      "outputs": [],
      "source": [
        "# Returns number of even numbers in list.\n",
        "\n",
        "def count_even(getList):\n",
        "\n",
        "  count = 0\n",
        "  for num in getList:\n",
        "    if num % 2 == 0:  # If the current number in the list is even (divisible by 2)\n",
        "      count += 1  # Add one to our count!\n",
        "  print(f\"Number of even integers: {count}\")\n",
        "\n",
        "def get_list():\n",
        "\n",
        "  result = []\n",
        "\n",
        "  while True:\n",
        "    num = input(\"Enter an integer or press enter to stop: \")\n",
        "    if num == \"\":\n",
        "      break\n",
        "    try:\n",
        "      number_list = int(num)\n",
        "      result.append(number_list)\n",
        "    except ValueError:\n",
        "      print(\"Invalid input. Please enter an integer.\")\n",
        "\n",
        "  return result\n",
        "\n",
        "def main():\n",
        "  getList = get_list()\n",
        "  count_even(getList)\n",
        "\n",
        "\n",
        "# This provided line is required at the end of\n",
        "# Python file to call the main() function.\n",
        "if __name__ == '__main__':\n",
        "    main()"
      ]
    },
    {
      "cell_type": "markdown",
      "metadata": {
        "id": "00unflVFE5iu"
      },
      "source": [
        "**04_double**"
      ]
    },
    {
      "cell_type": "code",
      "execution_count": null,
      "metadata": {
        "id": "PhD24gZuE-bh"
      },
      "outputs": [],
      "source": [
        "# Fill out the double(num) function to return the result of multiplying num by 2. We've written a main() function for you which asks the user for a number, calls your code for double(num) , and prints the result.\n",
        "\n",
        "BOLD =\"\\033[1m\"\n",
        "ITALIC = \"\\033[3m\"\n",
        "RESET = \"\\033[0m\"\n",
        "\n",
        "def double_number(num):\n",
        "  return num * 2\n",
        "\n",
        "def main():\n",
        "  num = int(input(\"Enter a number: \"))\n",
        "  doubled_num = double_number(num)\n",
        "  print(f\"The doubled number is: {BOLD}{ITALIC}{doubled_num}{RESET}\")\n",
        "\n",
        "# This provided line is required at the end of\n",
        "# Python file to call the main() function.\n",
        "if __name__ == '__main__':\n",
        "    main()"
      ]
    },
    {
      "cell_type": "markdown",
      "metadata": {
        "id": "fTRCdNKQE_L3"
      },
      "source": [
        "**05_get_name**"
      ]
    },
    {
      "cell_type": "code",
      "execution_count": null,
      "metadata": {
        "id": "79bgTkFUFFt7"
      },
      "outputs": [],
      "source": [
        "# Fill out the get_name() function to return your name as a string! We've written a main() function for you which calls your function to retrieve your name and then prints it in a greeting.\n",
        "\n",
        "def get_name():\n",
        "  return \"Sophia\"\n",
        "\n",
        "def main():\n",
        "  name = get_name()\n",
        "  print(f\"Hello {name}\")\n",
        "\n",
        "# This provided line is required at the end of\n",
        "# Python file to call the main() function.\n",
        "if __name__ == '__main__':\n",
        "    main()"
      ]
    },
    {
      "cell_type": "markdown",
      "metadata": {
        "id": "EEFh0vD8FGZX"
      },
      "source": [
        "**06_is_odd**"
      ]
    },
    {
      "cell_type": "code",
      "execution_count": null,
      "metadata": {
        "id": "yyH3Qe8mFKwD"
      },
      "outputs": [],
      "source": [
        "\n",
        "def main():\n",
        "  for num in range(10):\n",
        "    if is_odd(num):\n",
        "      print(f\"{num} is odd\")\n",
        "    else:\n",
        "      print(f\"{num} is even\")\n",
        "\n",
        "def is_odd(num):\n",
        "  return num % 2 != 0\n",
        "\n",
        "# This provided line is required at the end of\n",
        "# Python file to call the main() function.\n",
        "if __name__ == '__main__':\n",
        "    main()"
      ]
    },
    {
      "cell_type": "markdown",
      "metadata": {
        "id": "J1k0-ZM5FMCj"
      },
      "source": [
        "**07_print_divisor**"
      ]
    },
    {
      "cell_type": "code",
      "execution_count": null,
      "metadata": {
        "colab": {
          "background_save": true
        },
        "id": "ey03QZ_JFRKp"
      },
      "outputs": [],
      "source": [
        "# A divisor is a number that divides another number exactly, with no remainder.\n",
        "\n",
        "def print_divisor(number):\n",
        "  print(f\"Here are the divisors of: \\033[94m{number}\\033[0m\")\n",
        "\n",
        "  for i in range(1, number + 1):  # range(1, num + 1) → checks all numbers from 1 to num (user input), including both.\n",
        "    if number % i == 0:\n",
        "      print(i)\n",
        "\n",
        "def main():\n",
        "  number = int(input(\"Enter a number: \"))\n",
        "  print_divisor(number)\n",
        "\n",
        "# This provided line is required at the end of\n",
        "# Python file to call the main() function.\n",
        "if __name__ == '__main__':\n",
        "    main()"
      ]
    },
    {
      "cell_type": "markdown",
      "metadata": {
        "id": "CFgupLVWFRle"
      },
      "source": [
        "**08_print_multiple**"
      ]
    },
    {
      "cell_type": "code",
      "execution_count": null,
      "metadata": {
        "colab": {
          "background_save": true
        },
        "id": "GIcJity5FWxK"
      },
      "outputs": [],
      "source": [
        "def print_multiple(message, repeat):\n",
        "  for r in range(repeat):\n",
        "    print(f\"/n Message: \\033[94m{message}\\033[0m\")\n",
        "\n",
        "def main():\n",
        "  message = input(\"Enter a message: \")\n",
        "  repeat = int(input(\"Enter a number: \"))\n",
        "  print_multiple(message, repeat)\n",
        "\n",
        "# This provided line is required at the end of\n",
        "# Python file to call the main() function.\n",
        "if __name__ == '__main__':\n",
        "    main()"
      ]
    },
    {
      "cell_type": "markdown",
      "metadata": {
        "id": "Lsb-pyVTFXMl"
      },
      "source": [
        "**09_sentence_generator**"
      ]
    },
    {
      "cell_type": "code",
      "execution_count": null,
      "metadata": {
        "colab": {
          "background_save": true
        },
        "id": "AeiSBlndFc9a"
      },
      "outputs": [],
      "source": [
        "BLUE = \"\\033[94m\"\n",
        "RESET = \"\\033[0m\"\n",
        "\n",
        "def make_sentence(word, part_of_speech):\n",
        "    if part_of_speech == 0:\n",
        "        print(f\"I am excited to add this {BLUE}{word}{RESET} to my vast collection of them!\")\n",
        "    elif part_of_speech == 1:\n",
        "        print(f\"It's so nice outside today it makes me want to {BLUE}{word}{RESET}!\")\n",
        "    elif part_of_speech == 2:\n",
        "        print(f\"Looking out my window, the sky is big and {BLUE}{word}{RESET}!\")\n",
        "    else:\n",
        "        print(\"Invalid part of speech!\")\n",
        "\n",
        "def main():\n",
        "  word = input(\"Enter a word: \")\n",
        "  part_of_speech = int(input(\"Enter a part of speech (0 for noun, 1 for verb, 2 for adjective): \"))\n",
        "  make_sentence(word, part_of_speech)\n",
        "\n",
        "# This provided line is required at the end of\n",
        "# Python file to call the main() function.\n",
        "if __name__ == '__main__':\n",
        "    main()"
      ]
    },
    {
      "cell_type": "markdown",
      "metadata": {
        "id": "sh5jVw-bFdd7"
      },
      "source": [
        "**10_print_ones_digit**"
      ]
    },
    {
      "cell_type": "code",
      "execution_count": null,
      "metadata": {
        "colab": {
          "background_save": true
        },
        "id": "JTM8iosgFj1v"
      },
      "outputs": [],
      "source": [
        "BLUE = \"\\033[94m\"\n",
        "RESET = \"\\033[0m\"\n",
        "\n",
        "# The ones digit (or unit digit) refers to the last digit of a number\n",
        "\n",
        "def print_ones_digit(number):\n",
        "\n",
        "  # extracts the last digit (the ones digit) of any given number.input number = 123, 123 % 10 will return 3,input number = 45,  45 % 10 will return 5.\n",
        "  ones_digit = number % 10\n",
        "\n",
        "  print(f\"The ones digit of {BLUE}{number}{RESET} is: {BLUE}{ones_digit}{RESET}\")\n",
        "\n",
        "def main():\n",
        "  number = int(input(\"Enter a number: \"))\n",
        "  print_ones_digit(number)\n",
        "\n",
        "# This provided line is required at the end of\n",
        "# Python file to call the main() function.\n",
        "if __name__ == '__main__':\n",
        "    main()"
      ]
    }
  ],
  "metadata": {
    "colab": {
      "provenance": [],
      "authorship_tag": "ABX9TyO/OoAlfjCGnD+aL2m/rfYR",
      "include_colab_link": true
    },
    "kernelspec": {
      "display_name": "Python 3",
      "name": "python3"
    },
    "language_info": {
      "name": "python"
    }
  },
  "nbformat": 4,
  "nbformat_minor": 0
}