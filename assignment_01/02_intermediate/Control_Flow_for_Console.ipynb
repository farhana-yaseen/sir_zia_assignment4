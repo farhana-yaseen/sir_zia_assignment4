{
  "nbformat": 4,
  "nbformat_minor": 0,
  "metadata": {
    "colab": {
      "provenance": [],
      "authorship_tag": "ABX9TyPKPSB8uB9rb3X2zSsR/TYd",
      "include_colab_link": true
    },
    "kernelspec": {
      "name": "python3",
      "display_name": "Python 3"
    },
    "language_info": {
      "name": "python"
    }
  },
  "cells": [
    {
      "cell_type": "markdown",
      "metadata": {
        "id": "view-in-github",
        "colab_type": "text"
      },
      "source": [
        "<a href=\"https://colab.research.google.com/github/farhana-yaseen/sir_zia_assignment4/blob/main/Control_Flow_for_Console.ipynb\" target=\"_parent\"><img src=\"https://colab.research.google.com/assets/colab-badge.svg\" alt=\"Open In Colab\"/></a>"
      ]
    },
    {
      "cell_type": "markdown",
      "source": [
        "**handout**"
      ],
      "metadata": {
        "id": "H0PWV4DQ3aNN"
      }
    },
    {
      "cell_type": "code",
      "execution_count": 9,
      "metadata": {
        "colab": {
          "base_uri": "https://localhost:8080/"
        },
        "id": "UtGBnuy413ff",
        "outputId": "8e1906f9-c079-4b63-b444-396311282435"
      },
      "outputs": [
        {
          "output_type": "stream",
          "name": "stdout",
          "text": [
            "\u001b[1m\u001b[94m\u001b[3m Welcome to the High-Low Game!\u001b[0m\n",
            "------------------------------\n",
            "\n",
            "\u001b[1m\u001b[94m\u001b[3mRound 1\u001b[0m\n",
            "Your number is 97\n",
            "Do you think your number is higher or lower than the computer's? (higher/lower): higher\n",
            "Congratulations! You guessed correctly. The Computer's number is \u001b[1m\u001b[94m\u001b[3m 35. Your score is now \u001b[1m\u001b[94m\u001b[3m 20\u001b[0m.\n",
            "\n",
            "------------------------------------------------------------------------------------\n",
            "\n",
            "\u001b[1m\u001b[94m\u001b[3mRound 2\u001b[0m\n",
            "Your number is 88\n",
            "Do you think your number is higher or lower than the computer's? (higher/lower): higher\n",
            "Sorry, you guessed incorrectly. The Computer's number is \u001b[1m\u001b[94m\u001b[3m 95\u001b[0m\n",
            "\n",
            "------------------------------------------------------------------------------------\n",
            "\n",
            "\u001b[1m\u001b[94m\u001b[3mRound 3\u001b[0m\n",
            "Your number is 15\n",
            "Do you think your number is higher or lower than the computer's? (higher/lower): lower\n",
            "Congratulations! You guessed correctly. The Computer's number is \u001b[1m\u001b[94m\u001b[3m 27. Your score is now \u001b[1m\u001b[94m\u001b[3m 40\u001b[0m.\n",
            "\n",
            "------------------------------------------------------------------------------------\n",
            "\n",
            "\u001b[1m\u001b[94m\u001b[3mRound 4\u001b[0m\n",
            "Your number is 11\n",
            "Do you think your number is higher or lower than the computer's? (higher/lower): df;ldfkjf\n",
            "\n",
            "Oops! That’s not a valid choice. Please enter either 'higher' or 'lower'.\n",
            "Do you think your number is higher or lower than the computer's? (higher/lower): higher\n",
            "Sorry, you guessed incorrectly. The Computer's number is \u001b[1m\u001b[94m\u001b[3m 57\u001b[0m\n",
            "\n",
            "------------------------------------------------------------------------------------\n",
            "\n",
            "\u001b[1m\u001b[94m\u001b[3mRound 5\u001b[0m\n",
            "Your number is 23\n",
            "Do you think your number is higher or lower than the computer's? (higher/lower): lower\n",
            "Congratulations! You guessed correctly. The Computer's number is \u001b[1m\u001b[94m\u001b[3m 92. Your score is now \u001b[1m\u001b[94m\u001b[3m 60\u001b[0m.\n",
            "\n",
            "------------------------------------------------------------------------------------\n",
            "\n",
            "{BOLD}{BLUE}{ITALIC} Game over! You've used all your attempts.{RESET}\n",
            "\n",
            "Player's Score: \u001b[1m\u001b[94m\u001b[3m 60\u001b[0m\n",
            "\u001b[1m\u001b[94m\u001b[3mGood effort! You're making progress.\u001b[0m\n"
          ]
        }
      ],
      "source": [
        "import random\n",
        "\n",
        "BOLD =\"\\033[1m\"\n",
        "ITALIC = \"\\033[3m\"\n",
        "RESET = \"\\033[0m\"\n",
        "BLUE = \"\\033[94m\"\n",
        "\n",
        "print(f\"{BOLD}{BLUE}{ITALIC} Welcome to the High-Low Game!{RESET}\")\n",
        "print(\"------------------------------\\n\")\n",
        "\n",
        "NUM_ROUNDS = 5\n",
        "score = 0\n",
        "\n",
        "# Safeguard user input\n",
        "def get_user_input():\n",
        "      while True:\n",
        "        choice = input(\"Do you think your number is higher or lower than the computer's? (higher/lower): \").strip().lower()\n",
        "        if choice in [\"higher\", \"lower\"]:\n",
        "          return choice\n",
        "        else:\n",
        "          print(\"\\nOops! That’s not a valid choice. Please enter either 'higher' or 'lower'.\")\n",
        "\n",
        "while NUM_ROUNDS > 0:\n",
        "\n",
        "  # Generate random number\n",
        "    my_number = random.randint(1, 100)\n",
        "    computer_number = random.randint(1, 100)\n",
        "\n",
        "    print(f\"{BOLD}{BLUE}{ITALIC}Round {6 - NUM_ROUNDS}{RESET}\")\n",
        "    print(f\"Your number is {my_number}\")\n",
        "\n",
        "    user_input = get_user_input()\n",
        "\n",
        "    if user_input == \"higher\":\n",
        "        if my_number > computer_number:\n",
        "            score += 20\n",
        "            print(f\"Congratulations! You guessed correctly. The Computer's number is {BOLD}{BLUE}{ITALIC} {computer_number}. Your score is now {BOLD}{BLUE}{ITALIC} {score}{RESET}.\")\n",
        "        else:\n",
        "            print(f\"Sorry, you guessed incorrectly. The Computer's number is {BOLD}{BLUE}{ITALIC} {computer_number}{RESET}\")\n",
        "\n",
        "    elif user_input == \"lower\":\n",
        "        if my_number < computer_number:\n",
        "            score += 20\n",
        "            print(f\"Congratulations! You guessed correctly. The Computer's number is {BOLD}{BLUE}{ITALIC} {computer_number}. Your score is now {BOLD}{BLUE}{ITALIC} {score}{RESET}.\")\n",
        "        else:\n",
        "            print(f\"Sorry, you guessed incorrectly. The Computer's number is {BOLD}{BLUE}{ITALIC} {computer_number}{RESET}\")\n",
        "\n",
        "    NUM_ROUNDS -= 1\n",
        "\n",
        "    print(\"\\n------------------------------------------------------------------------------------\\n\")\n",
        "\n",
        "if NUM_ROUNDS == 0:\n",
        "    print(\"{BOLD}{BLUE}{ITALIC} Game over! You've used all your attempts.{RESET}\")\n",
        "\n",
        "print(f\"\\nPlayer's Score: {BOLD}{BLUE}{ITALIC} {score}{RESET}\")\n",
        "\n",
        "if score == 100:\n",
        "  print(f\"{BOLD}{BLUE}{ITALIC}Congratulations! you got full score.{RESET}\")\n",
        "elif score >= 80:\n",
        "  print(f\"{BOLD}{BLUE}{ITALIC}Great job! You did very well.{RESET}\")\n",
        "elif score >= 60:\n",
        "  print(f\"{BOLD}{BLUE}{ITALIC}Good effort! You're making progress.{RESET}\")\n",
        "elif score >= 40:\n",
        "  print(f\"{BOLD}{BLUE}{ITALIC}Keep practicing! You'll get better.{RESET}\")\n",
        "else:\n",
        "  print(f\"{BOLD}{BLUE}{ITALIC}Don't give up! Keep trying.{RESET}\")\n",
        "\n",
        "\n",
        "\n"
      ]
    }
  ]
}