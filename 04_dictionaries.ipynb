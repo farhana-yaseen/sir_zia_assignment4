{
  "nbformat": 4,
  "nbformat_minor": 0,
  "metadata": {
    "colab": {
      "provenance": [],
      "authorship_tag": "ABX9TyNyuzhRbEU1SWOsmYjzK4Ew",
      "include_colab_link": true
    },
    "kernelspec": {
      "name": "python3",
      "display_name": "Python 3"
    },
    "language_info": {
      "name": "python"
    }
  },
  "cells": [
    {
      "cell_type": "markdown",
      "metadata": {
        "id": "view-in-github",
        "colab_type": "text"
      },
      "source": [
        "<a href=\"https://colab.research.google.com/github/farhana-yaseen/sir_zia_assignment4/blob/main/04_dictionaries.ipynb\" target=\"_parent\"><img src=\"https://colab.research.google.com/assets/colab-badge.svg\" alt=\"Open In Colab\"/></a>"
      ]
    },
    {
      "cell_type": "markdown",
      "source": [
        "**00_count_nums**"
      ],
      "metadata": {
        "id": "C5_eu5LbvkoF"
      }
    },
    {
      "cell_type": "code",
      "execution_count": null,
      "metadata": {
        "id": "o3THgD1ivi0F"
      },
      "outputs": [],
      "source": [
        "\n",
        "\n",
        "def main():\n",
        "\n",
        "  # empth dictionary\n",
        "  number_count = {}\n",
        "\n",
        "  print(\"Number Count\")\n",
        "  print(\"Press Enter without typing a number to exit.\\n\")\n",
        "\n",
        "\n",
        "  while True:\n",
        "\n",
        "    user_input = input(\"Enter your Number: \")\n",
        "\n",
        "    if user_input == \"\":  # Exit the loop if user presses Enter without input\n",
        "      break\n",
        "\n",
        "        # Convert input to integer\n",
        "    try:\n",
        "        number = int(user_input)\n",
        "    except ValueError:\n",
        "        print(\"Please enter a valid number or press Enter to quit.\")\n",
        "        continue\n",
        "\n",
        "\n",
        "    # Update count in dictionary\n",
        "    if number in number_count:\n",
        "         number_count[number] += 1\n",
        "    else:\n",
        "         number_count[number] = 1\n",
        "\n",
        " # ANSI escape codes for blue text and bold\n",
        "  BLUE = \"\\033[94m\"\n",
        "  RESET = \"\\033[0m\"\n",
        "  BOLD = \"\\033[1m\"\n",
        "\n",
        "  for num in number_count:\n",
        "    print(f\"{BLUE}{BOLD}{num}{RESET} was entered {number_count[num]} times.\", end=\"\")\n",
        "\n",
        "\n",
        "# This provided line is required at the end of\n",
        "# Python file to call the main() function.\n",
        "if __name__ == '__main__':\n",
        "    main()"
      ]
    },
    {
      "cell_type": "markdown",
      "source": [
        "**01_phonebook**"
      ],
      "metadata": {
        "id": "6NNXpauAvsZP"
      }
    },
    {
      "cell_type": "code",
      "source": [
        "# Initialize an empty phonebook\n",
        "phonebook ={}\n",
        "\n",
        "def main():\n",
        "  print(\"Phonbook\")\n",
        "\n",
        "  # Function to add a contact\n",
        "  def add_contact(name, number):\n",
        "    phonebook[name] = number\n",
        "    print(f\"\\n{name} has been added with {number}.\")\n",
        "\n",
        "  # Function to delete a contact\n",
        "  def remove_contact(name):\n",
        "    if name in phonebook:\n",
        "      del phonebook[name]\n",
        "    print(f\"\\nContact {name} deleted \")\n",
        "\n",
        "  # Function to look up a contact\n",
        "  def lookup_contact(name):\n",
        "\n",
        "    if name in phonebook:\n",
        "     print(f\"\\n{name}'s number is {phonebook[name]}.\")\n",
        "    else:\n",
        "      print(f\"\\n{name} is not in the phonebook.\")\n",
        "\n",
        " # Function to display all contacts\n",
        "  def display():\n",
        "\n",
        "    if phonebook:\n",
        "      print(\"\\nPhonebook Contact:\")\n",
        "\n",
        "# In Python, .items() is a method used with dictionaries. It returns a view object that displays a list of a dictionary's key-value tuple pairs.\n",
        "    for name, number in phonebook.items():\n",
        "      print(f\"\\n{name}: {number}\")\n",
        "\n",
        "    else:\n",
        "          print(\"\\nPhonebook is empty.\")\n",
        "\n",
        "  while True:\n",
        "    print(\"\\nPhonebook Menu:\")\n",
        "    print(\"1. Add Contact\")\n",
        "    print(\"2. Remove Contact\")\n",
        "    print(\"3. Look Up Contact\")\n",
        "    print(\"4. Display All Contacts\")\n",
        "    print(\"5. Quit\")\n",
        "\n",
        "    choice = input(\"Enter your choice: \")\n",
        "\n",
        "    if choice == \"1\":\n",
        "      name = input(\"Enter name: \")\n",
        "      number = input(\"Enter number: \")\n",
        "      add_contact(name, number)\n",
        "    elif choice == \"2\":\n",
        "      name = input(\"Enter name to remove: \")\n",
        "      remove_contact(name)\n",
        "    elif choice == \"3\":\n",
        "      name = input(\"Enter name to look up: \")\n",
        "      lookup_contact(name)\n",
        "    elif choice == \"4\":\n",
        "      display()\n",
        "    elif choice == \"5\":\n",
        "      print(\"\\nGoodbye!\")\n",
        "      break\n",
        "    else:\n",
        "      print(\"Invalid choice. Please try again.\")\n",
        "\n",
        "\n",
        "\n",
        "# This provided line is required at the end of\n",
        "# Python file to call the main() function.\n",
        "if __name__ == '__main__':\n",
        "    main()"
      ],
      "metadata": {
        "id": "2xqi3oZcvyir"
      },
      "execution_count": null,
      "outputs": []
    },
    {
      "cell_type": "markdown",
      "source": [
        "**02_pop_up_shop**"
      ],
      "metadata": {
        "id": "0Nd3OlI6vzVZ"
      }
    },
    {
      "cell_type": "code",
      "source": [
        "\n",
        "def main():\n",
        "\n",
        "\n",
        "    fruits = {\n",
        "        'apple': 1.5,\n",
        "        'durian': 50,\n",
        "        'jackfruit': 80,\n",
        "        'kiwi': 1,\n",
        "        'rambutan': 1.5,\n",
        "        'mango': 5}\n",
        "\n",
        "\n",
        "    total_cost = 0.0\n",
        "\n",
        "    print(\"Welcome to the Fruit Shop!\")\n",
        "    print(\"\\nHere are the available fruits and their prices:\")\n",
        "\n",
        "    # show fruit list\n",
        "    for fruit_name, fruit_price in fruits.items():\n",
        "      print(f\"{fruit_name}: ${fruit_price:.2f}\")\n",
        "\n",
        "    # ANSI escape codes for blue text and bold\n",
        "    BLUE = \"\\033[94m\"\n",
        "    RESET = \"\\033[0m\"\n",
        "    BOLD = \"\\033[1m\"\n",
        "\n",
        "\n",
        "    while True:\n",
        "      for fruitName in fruits:\n",
        "        quantity = int(input(f\"How many {fruitName} do you want?: \"))\n",
        "\n",
        "        if quantity > 0:\n",
        "          total_cost += fruits[fruitName] * quantity\n",
        "\n",
        "      else:\n",
        "        print(\"\\nThank you for shopping with us!\")\n",
        "        print(f\"\\nYour total cost is:{BLUE}{BOLD} ${total_cost:.2f}{RESET}\")\n",
        "        break\n",
        "\n",
        "\n",
        "# This provided line is required at the end of\n",
        "# Python file to call the main() function.\n",
        "if __name__ == '__main__':\n",
        "    main()"
      ],
      "metadata": {
        "id": "WEUZcdIZv43S"
      },
      "execution_count": null,
      "outputs": []
    },
    {
      "cell_type": "markdown",
      "source": [
        "**03_powerful_passwords**"
      ],
      "metadata": {
        "id": "7W9yb0_5v51N"
      }
    },
    {
      "cell_type": "code",
      "source": [
        "# This code is a simple password verification system using SHA-256 hashing from Python’s hashlib library.\n",
        "\n",
        "import hashlib\n",
        "\n",
        "#  Takes in a password and returns the SHA256 hashed value for that specific password.\n",
        "def hash_password(password):\n",
        "\n",
        "  # password.encode() converts the string into bytes, which is required by the sha256() function.\n",
        "  # .hexdigest() gives the result in readable hexadecimal format.\n",
        "  return hashlib.sha256(password.encode()).hexdigest()\n",
        "\n",
        "\n",
        "# login\n",
        "def login(email, password_to_check, stored_logins):\n",
        "  # Hash the provided password hash_password function\n",
        "  hashed_password = hash_password(password_to_check)\n",
        "\n",
        "  # Check if the email exists and the hashed password matches\n",
        "  if email in stored_logins and stored_logins[email] == hashed_password:\n",
        "    return True\n",
        "  else:\n",
        "    return False\n",
        "\n",
        "\n",
        "def main():\n",
        "\n",
        "    # stored_logins is a dictionary with emails as keys and hashed passwords as values\n",
        "    stored_logins = {\n",
        "        \"example@gmail.com\": \"5e884898da28047151d0e56f8dc6292773603d0d6aabbdd62a11ef721d1542d8\",\n",
        "        \"code_in_placer@cip.org\": \"973607a4ae7b4cf7d96a100b0fb07e8519cc4f70441d41214a9f811577bb06cc\",\n",
        "        \"student@stanford.edu\": \"882c6df720fd99f5eebb1581a1cf975625cea8a160283011c0b9512bb56c95fb\"\n",
        "    }\n",
        "\n",
        "    # The login(...) function checks if the email exists in stored_logins, and if so, compares the stored hashed password with the hash of the password_to_check.\n",
        "\n",
        "    print(login(\"example@gmail.com\", \"word\", stored_logins))           # False\n",
        "    print(login(\"example@gmail.com\", \"password\", stored_logins))       # True\n",
        "\n",
        "    print(login(\"code_in_placer@cip.org\", \"Karel\", stored_logins))     # False (case-sensitive)\n",
        "    print(login(\"code_in_placer@cip.org\", \"karel\", stored_logins))     # True\n",
        "\n",
        "    print(login(\"student@stanford.edu\", \"password\", stored_logins))    # False\n",
        "    print(login(\"student@stanford.edu\", \"123!456?789\", stored_logins)) # True\n",
        "\n",
        "\n",
        "\n",
        "\n",
        "# This provided line is required at the end of\n",
        "# Python file to call the main() function.\n",
        "if __name__ == '__main__':\n",
        "    main()"
      ],
      "metadata": {
        "id": "3wD3uNJdwBQy"
      },
      "execution_count": null,
      "outputs": []
    }
  ]
}