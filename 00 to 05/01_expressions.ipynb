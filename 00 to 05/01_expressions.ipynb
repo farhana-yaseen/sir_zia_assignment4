{
  "nbformat": 4,
  "nbformat_minor": 0,
  "metadata": {
    "colab": {
      "provenance": [],
      "authorship_tag": "ABX9TyN9WMuWmJDsq6cx1Ty627Sz",
      "include_colab_link": true
    },
    "kernelspec": {
      "name": "python3",
      "display_name": "Python 3"
    },
    "language_info": {
      "name": "python"
    }
  },
  "cells": [
    {
      "cell_type": "markdown",
      "metadata": {
        "id": "view-in-github",
        "colab_type": "text"
      },
      "source": [
        "<a href=\"https://colab.research.google.com/github/farhana-yaseen/sir_zia_assignment4/blob/main/01_expressions.ipynb\" target=\"_parent\"><img src=\"https://colab.research.google.com/assets/colab-badge.svg\" alt=\"Open In Colab\"/></a>"
      ]
    },
    {
      "cell_type": "markdown",
      "source": [
        "**01_dicesimulator**"
      ],
      "metadata": {
        "id": "cKaSRlyplZnk"
      }
    },
    {
      "cell_type": "code",
      "execution_count": null,
      "metadata": {
        "id": "zGb60BKKlQEP"
      },
      "outputs": [],
      "source": [
        "# Simulate rolling two dice, three times. Prints the results of each die roll. This program is used to show how variable scope works.\n",
        "\n",
        "# import random for generate random number\n",
        "import random\n",
        "\n",
        "roll = 3\n",
        "NO_OF_DICE_SIDES = 6\n",
        "\n",
        "def dice_roll():\n",
        "  dice1 = random.randint(1, NO_OF_DICE_SIDES)\n",
        "  dice2 = random.randint(1, NO_OF_DICE_SIDES)\n",
        "  return dice1, dice2\n",
        "\n",
        "def main():\n",
        "    print(\"Rolling Two Dice :)\")\n",
        "\n",
        "    for r in range(roll):\n",
        "      dice1, dice2 = dice_roll()\n",
        "      print(f\"Roll {r + 1}: \\t Die 1 Result = {dice1} \\t Die 2 Result = {dice2}\")\n",
        "\n",
        "\n",
        "\n",
        "# This provided line is required at the end of\n",
        "# Python file to call the main() function.\n",
        "if __name__ == '__main__':\n",
        "    main()"
      ]
    },
    {
      "cell_type": "markdown",
      "source": [
        "**02_e=mc2**\n"
      ],
      "metadata": {
        "id": "sPRKE4YDrG_k"
      }
    },
    {
      "cell_type": "code",
      "source": [
        "# Constant: speed of light in meters per second\n",
        "C = 299792458\n",
        "\n",
        "def main():\n",
        "  print(\"Welcome to the Mass-Energy Converter!\")\n",
        "  print(\"This program calculates the energy equivalent of a given mass.\")\n",
        "\n",
        "  user_input = float(input(\"Enter kilos of mass: \"))\n",
        "\n",
        "  if user_input <= 0:\n",
        "    print(\"Please enter a positive value for mass.\")\n",
        "    return\n",
        "\n",
        "  # Calculate energy\n",
        "  # equivalently energy = mass * (C ** 2)\n",
        "\n",
        "  # using the ** operator to raise C to the power of 2\n",
        "  energy = user_input * C ** 2\n",
        "\n",
        "  # print result\n",
        "  print(\"\\ne = m * C^2...\")\n",
        "  print(f\"\\nm = \\033[1;3m{user_input}kg\\033[0m\")\n",
        "  print(f\"\\nC = {C} m/s\")\n",
        "  print(f\"\\n{energy} joules of energy!\")\n",
        "\n",
        "\n",
        "\n",
        "# This provided line is required at the end of\n",
        "# Python file to call the main() function.\n",
        "if __name__ == '__main__':\n",
        "    main()\n",
        "\n",
        "\n",
        "\n"
      ],
      "metadata": {
        "id": "UHZqdZzPrgdm"
      },
      "execution_count": null,
      "outputs": []
    },
    {
      "cell_type": "markdown",
      "source": [
        "**03_feet_to_inches**"
      ],
      "metadata": {
        "id": "wzNt_HpNx4Rx"
      }
    },
    {
      "cell_type": "code",
      "source": [
        "# Converts feet to inches. Feet is an American unit of measurement. There are 12 inches per foot. Foot is the singular, and feet is the plural.\n",
        "\n",
        "# constant variable\n",
        "INCHES_IN_FOOT = 12\n",
        "\n",
        "def main():\n",
        "\n",
        "    print(\"Welcome to the Feet to Inches Converter!\")\n",
        "\n",
        "    user_input = float(input(\"Enter feet: \"))\n",
        "\n",
        "    inches = user_input * INCHES_IN_FOOT\n",
        "\n",
        "    # Choose the correct word: 'foot' for 1, 'feet' otherwise\n",
        "    unit = \"foot\" if user_input == 1 else \"feet\"\n",
        "    print(f\"\\n{user_input} {unit} is equal to {inches} inches.\")\n",
        "\n",
        "\n",
        "\n",
        "# This provided line is required at the end of\n",
        "# Python file to call the main() function.\n",
        "if __name__ == '__main__':\n",
        "    main()\n"
      ],
      "metadata": {
        "id": "MCPnSf7Mx9fq"
      },
      "execution_count": null,
      "outputs": []
    },
    {
      "cell_type": "markdown",
      "source": [
        "**04_pythagorean_theorem**"
      ],
      "metadata": {
        "id": "7mbDNwqJ0wcU"
      }
    },
    {
      "cell_type": "code",
      "source": [
        "import math\n",
        "\n",
        "def main():\n",
        "\n",
        "    # Get the two side lengths from the user and cast them to be numbers\n",
        "    ab = float(input(\"Enter side AB: \"))\n",
        "    ac = float(input(\"Enter side AC: \"))\n",
        "\n",
        "    # Calculate the hypotenuse using the Pythagorean theorem\n",
        "    # BC ** 2 = AB ** 2 + AC ** 2\n",
        "    bc = math.sqrt((ab ** 2 + ac ** 2))\n",
        "    print(f\"\\nThe length of BC (the hypotenuse) is: {bc}.\")\n",
        "\n",
        "\n",
        "# This provided line is required at the end of\n",
        "# Python file to call the main() function.\n",
        "if __name__ == '__main__':\n",
        "    main()"
      ],
      "metadata": {
        "id": "yo0avvQY08X9"
      },
      "execution_count": null,
      "outputs": []
    },
    {
      "cell_type": "markdown",
      "source": [
        "**05_remainder_division**"
      ],
      "metadata": {
        "id": "1e_4_2lS3luG"
      }
    },
    {
      "cell_type": "code",
      "source": [
        "\n",
        "def main():\n",
        "\n",
        "    # Get the two integers from the user and cast them to be numbers\n",
        "    dividend = int(input(\"Please enter an integer to be divided: \"))\n",
        "    divisor = int(input(\"Please enter an integer to divide by: \"))\n",
        "\n",
        "    # Prevent division by zero\n",
        "    if divisor == 0:\n",
        "        print(\"Error: Cannot divide by zero.\")\n",
        "        return\n",
        "\n",
        "\n",
        "    # Calculate the quotient and remainder\n",
        "    quotient = dividend // divisor\n",
        "    remainder = dividend % divisor\n",
        "\n",
        "    # Print the result\n",
        "    print(f\"The result of this division is {quotient} with a remainder of {remainder}\")\n",
        "\n",
        "\n",
        "# This provided line is required at the end of\n",
        "# Python file to call the main() function.\n",
        "if __name__ == '__main__':\n",
        "    main()"
      ],
      "metadata": {
        "id": "SSWkRGx33oZc"
      },
      "execution_count": null,
      "outputs": []
    },
    {
      "cell_type": "markdown",
      "source": [
        "**06_rolldice**"
      ],
      "metadata": {
        "id": "tGxJyePi6oO4"
      }
    },
    {
      "cell_type": "code",
      "source": [
        "# Simulate rolling two dice, and prints results of each roll as well as the total.\n",
        "\n",
        "# Constant variable\n",
        "NO_OF_DICE_SIDES = 6\n",
        "\n",
        "def main():\n",
        "\n",
        "    print(\"Rolling Two Dice)\")\n",
        "\n",
        "    dice1 = random.randint(1, NO_OF_DICE_SIDES)\n",
        "    dice2 = random.randint(1, NO_OF_DICE_SIDES)\n",
        "\n",
        "    total = dice1 + dice2\n",
        "\n",
        "\n",
        "    print(f\"\\n Dice have {NO_OF_DICE_SIDES} sides each.\\n First Dice Result = {dice1}\\n Second Dice Result = {dice2}\\n Total = {total}\")\n",
        "\n",
        "\n",
        "# This provided line is required at the end of\n",
        "# Python file to call the main() function.\n",
        "if __name__ == '__main__':\n",
        "    main()"
      ],
      "metadata": {
        "id": "rhFV0wRe6yD4"
      },
      "execution_count": null,
      "outputs": []
    },
    {
      "cell_type": "markdown",
      "source": [
        "**06_seconds_in_year**"
      ],
      "metadata": {
        "id": "2h8v7djZ7lVO"
      }
    },
    {
      "cell_type": "code",
      "source": [
        "\n",
        "def main():\n",
        "\n",
        "    # Constant variable\n",
        "    SECOND_IN_MINUTE = 60\n",
        "    MINUTE_IN_HOUR = 60\n",
        "    HOUR_IN_DAY = 24\n",
        "    DAY_IN_YEAR = 365\n",
        "\n",
        "    seconds_in_year = SECOND_IN_MINUTE * MINUTE_IN_HOUR * HOUR_IN_DAY * DAY_IN_YEAR\n",
        "\n",
        "    print(f\"There are {seconds_in_year} seconds in a year.\")\n",
        "\n",
        "\n",
        "# This provided line is required at the end of\n",
        "# Python file to call the main() function.\n",
        "if __name__ == '__main__':\n",
        "    main()"
      ],
      "metadata": {
        "id": "GTZg1juh9x22"
      },
      "execution_count": null,
      "outputs": []
    },
    {
      "cell_type": "markdown",
      "source": [
        "**07_tiny_mad_lib**"
      ],
      "metadata": {
        "id": "oM4KMZ_3_nO5"
      }
    },
    {
      "cell_type": "code",
      "source": [
        "\n",
        "# In Python, variable names written in all capital letters are typically used to indicate that the variable is a constant — meaning its value should not change throughout the program.\n",
        "SENTENCE_START = \"Panaversity is fun. I learned to program and used Python to make my \"\n",
        "\n",
        "def main():\n",
        "\n",
        "    # Prompt the user for inputs\n",
        "    adjective = input(\"Enter an adjective: \")\n",
        "    noun = input(\"Enter a noun: \")\n",
        "    verb = input(\"Enter a verb: \")\n",
        "\n",
        "    print(f\"\\n{SENTENCE_START}\\033[1;3m{adjective} {noun} {verb}\\033[0m!\")\n",
        "\n",
        "\n",
        "\n",
        "# This provided line is required at the end of\n",
        "# Python file to call the main() function.\n",
        "if __name__ == '__main__':\n",
        "    main()\n"
      ],
      "metadata": {
        "id": "oXlghImt_ni2"
      },
      "execution_count": null,
      "outputs": []
    }
  ]
}