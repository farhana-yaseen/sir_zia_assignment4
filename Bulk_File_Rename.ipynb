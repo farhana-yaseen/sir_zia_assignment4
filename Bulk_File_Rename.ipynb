{
  "nbformat": 4,
  "nbformat_minor": 0,
  "metadata": {
    "colab": {
      "provenance": [],
      "authorship_tag": "ABX9TyPcchK41OsQOE/4NoKjw7P0",
      "include_colab_link": true
    },
    "kernelspec": {
      "name": "python3",
      "display_name": "Python 3"
    },
    "language_info": {
      "name": "python"
    }
  },
  "cells": [
    {
      "cell_type": "markdown",
      "metadata": {
        "id": "view-in-github",
        "colab_type": "text"
      },
      "source": [
        "<a href=\"https://colab.research.google.com/github/farhana-yaseen/sir_zia_assignment4/blob/main/Bulk_File_Rename.ipynb\" target=\"_parent\"><img src=\"https://colab.research.google.com/assets/colab-badge.svg\" alt=\"Open In Colab\"/></a>"
      ]
    },
    {
      "cell_type": "markdown",
      "source": [
        "**Bulk File Re-namer Python Project**"
      ],
      "metadata": {
        "id": "qcoA5KnD2TXp"
      }
    },
    {
      "cell_type": "code",
      "execution_count": null,
      "metadata": {
        "id": "nphyn92E2Sk1"
      },
      "outputs": [],
      "source": [
        "import os\n",
        "\n",
        "def main():\n",
        "  i = 0\n",
        "\n",
        "  path = \"C:/Users/zuni/Documents/qrcode/\"    # for vs code (last / is important)\n",
        "\n",
        "  for filename in os.listdir(path):\n",
        "    my_dest = \"image\" + str(i) + \".jpeg\" # output: image0.jpeg, image1.jpeg etc\n",
        "    my_source = path + filename\n",
        "    my_dest = path + my_dest\n",
        "    os.rename(my_source, my_dest)\n",
        "    i += 1\n",
        "\n",
        "\n",
        "if __name__ == \"__main__\":\n",
        "    main()"
      ]
    }
  ]
}