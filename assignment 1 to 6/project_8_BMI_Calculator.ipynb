{
  "cells": [
    {
      "cell_type": "markdown",
      "metadata": {
        "id": "view-in-github",
        "colab_type": "text"
      },
      "source": [
        "<a href=\"https://colab.research.google.com/github/farhana-yaseen/sir_zia_assignment4/blob/main/project_8_BMI_Calculator.ipynb\" target=\"_parent\"><img src=\"https://colab.research.google.com/assets/colab-badge.svg\" alt=\"Open In Colab\"/></a>"
      ]
    },
    {
      "cell_type": "markdown",
      "metadata": {
        "id": "-jQ1B_FlSZ9l"
      },
      "source": [
        "**Build a BMI Calculator with Python & Streamlit **"
      ]
    },
    {
      "cell_type": "code",
      "execution_count": null,
      "metadata": {
        "id": "B49zWEks_V6d"
      },
      "outputs": [],
      "source": [
        "# install streamlit and pyngrok (for display on browser)\n",
        "!pip install streamlit pyngrok --quiet\n",
        "\n",
        "# get authentication code from Go to https://dashboard.ngrok.com/get-started/setup (create a/c)\n",
        "                            # token\n",
        "!ngrok config add-authtoken 2wjj0ZpLIRN1Gp1rfr4VD8GWzFS_4MgQdTp1u7Pr6Dv7oipun"
      ]
    },
    {
      "cell_type": "code",
      "execution_count": null,
      "metadata": {
        "id": "oC4i713JSORh"
      },
      "outputs": [],
      "source": [
        "\n",
        "%%writefile bmi_app.py\n",
        "import streamlit as st\n",
        "\n",
        "\n",
        "st.markdown(f\"<span style='color: blue; font-size: 80px; font-weight: bold;'>BMI Calculator</span>\", unsafe_allow_html=True)\n",
        "\n",
        "height = st.slider(\"Enter your Height (in cm): \", 100, 250, 175)\n",
        "weight = st.slider(\"Enter your Weight (in kg): \", 40, 200, 70)\n",
        "\n",
        "bmi = weight / ((height/100 )** 2)\n",
        "\n",
        "st.markdown(f\"<span style='color: blue; font-size: 20px; font-weight: bold;'>Your BMI is {bmi:.2f}</span>\", unsafe_allow_html=True)\n",
        "\n",
        "st.markdown(f\"<span style='color: blue; font-size: 40px; font-weight: bold;'>BMI Categories</span>\", unsafe_allow_html=True)\n",
        "st.write(\"- Underweight: BMI less than 18.5.\")\n",
        "st.write(\"- Normal weight: BMI between 18.5 to 24.9.\")\n",
        "st.write(\"- Overweight: BMI between 25.0 to 29.9.\")\n",
        "st.write(\"- Obesity: BMI 30 or greater.\")\n"
      ]
    },
    {
      "cell_type": "code",
      "execution_count": null,
      "metadata": {
        "id": "t-kq2JDuCejg"
      },
      "outputs": [],
      "source": [
        "# Run Streamlit App in Colab using Pyngrok\n",
        "# Ngrok is a tool that creates a secure public URL (tunnel) to a web server running locally on your machine or virtual environment—like Google Colab.\n",
        "\n",
        "# install ngrok\n",
        "from pyngrok import ngrok\n",
        "\n",
        "# Kill previous tunnels (if any) or (go to ngrok site -> agents-> stop)\n",
        "ngrok.kill()\n",
        "\n",
        "# Run the Streamlit app\n",
        "!streamlit run bmi_app.py &>/content/logs.txt &\n",
        "\n",
        "# expose using correct args\n",
        "public_url = ngrok.connect(8501, \"http\")\n",
        "print(\"Streamlit app running at:\", public_url)\n"
      ]
    }
  ],
  "metadata": {
    "colab": {
      "provenance": [],
      "authorship_tag": "ABX9TyOnVEcdAghZ9wtrnj3/ySS1",
      "include_colab_link": true
    },
    "kernelspec": {
      "display_name": "Python 3",
      "name": "python3"
    },
    "language_info": {
      "name": "python"
    }
  },
  "nbformat": 4,
  "nbformat_minor": 0
}