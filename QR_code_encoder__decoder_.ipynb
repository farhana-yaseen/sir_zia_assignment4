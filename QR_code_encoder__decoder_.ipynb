{
  "nbformat": 4,
  "nbformat_minor": 0,
  "metadata": {
    "colab": {
      "provenance": [],
      "authorship_tag": "ABX9TyMD4S/wodm6iun6ckp8vTJ9",
      "include_colab_link": true
    },
    "kernelspec": {
      "name": "python3",
      "display_name": "Python 3"
    },
    "language_info": {
      "name": "python"
    }
  },
  "cells": [
    {
      "cell_type": "markdown",
      "metadata": {
        "id": "view-in-github",
        "colab_type": "text"
      },
      "source": [
        "<a href=\"https://colab.research.google.com/github/farhana-yaseen/sir_zia_assignment4/blob/main/QR_code_encoder__decoder_.ipynb\" target=\"_parent\"><img src=\"https://colab.research.google.com/assets/colab-badge.svg\" alt=\"Open In Colab\"/></a>"
      ]
    },
    {
      "cell_type": "markdown",
      "source": [
        "**QR code encoder / decoder **"
      ],
      "metadata": {
        "id": "y_bGsDNqdjB8"
      }
    },
    {
      "cell_type": "code",
      "execution_count": null,
      "metadata": {
        "id": "-nhnY_vGdY2x"
      },
      "outputs": [],
      "source": [
        "!pip install qrcode\n"
      ]
    },
    {
      "cell_type": "code",
      "source": [
        "import qrcode\n",
        "from IPython.display import display, Image\n",
        "\n",
        "data = \"Don\\'t forget to subcribe\"\n",
        "\n",
        "# Create QR code\n",
        "qr = qrcode.QRCode(version=1, box_size=10, border=5)\n",
        "qr.add_data(data)\n",
        "qr.make(fit=True)\n",
        "\n",
        "# Create image\n",
        "img = qr.make_image(fill_color=\"red\", back_color=\"white\")\n",
        "\n",
        "# ****for google colab****\n",
        "\n",
        "# Save to current directory\n",
        "img.save(\"myqrcode.png\")\n",
        "\n",
        "# Display the QR code image\n",
        "display(Image(filename=\"myqrcode.png\"))\n",
        "\n",
        "# ****for vs code****\n",
        "img.save(\"C:/Users/zuni/Documents/qrcode/myqrcode.png\")\n",
        "\n"
      ],
      "metadata": {
        "id": "52EDyXbqd7MX"
      },
      "execution_count": null,
      "outputs": []
    }
  ]
}