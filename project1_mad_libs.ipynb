{
  "nbformat": 4,
  "nbformat_minor": 0,
  "metadata": {
    "colab": {
      "provenance": [],
      "authorship_tag": "ABX9TyOS9F1QCl9eS4G+OEftxuPg",
      "include_colab_link": true
    },
    "kernelspec": {
      "name": "python3",
      "display_name": "Python 3"
    },
    "language_info": {
      "name": "python"
    }
  },
  "cells": [
    {
      "cell_type": "markdown",
      "metadata": {
        "id": "view-in-github",
        "colab_type": "text"
      },
      "source": [
        "<a href=\"https://colab.research.google.com/github/farhana-yaseen/sir_zia_assignment4/blob/main/project1_mad_libs.ipynb\" target=\"_parent\"><img src=\"https://colab.research.google.com/assets/colab-badge.svg\" alt=\"Open In Colab\"/></a>"
      ]
    },
    {
      "cell_type": "markdown",
      "source": [
        "**Mad libs Python Project**"
      ],
      "metadata": {
        "id": "tE7C0wLWfifx"
      }
    },
    {
      "cell_type": "code",
      "execution_count": null,
      "metadata": {
        "id": "SixoY01pfbb8"
      },
      "outputs": [],
      "source": [
        "\n",
        "def main():\n",
        "\n",
        "    # Input\n",
        "    place = input(\"Enter a place: \")\n",
        "    adjective = input(\"Enter an adjective: \")\n",
        "    noun = input(\"Enter a noun: \")\n",
        "    verb_past_tense = input(\"Enter a verb in past tense: \")\n",
        "    adverb = input(\"Enter an adverb: \")\n",
        "\n",
        "    # Creating the story\n",
        "    story = f\"\"\"\n",
        "    Today I went to the {place}. It was a very {adjective} day.\n",
        "    I saw a {noun} that {verb_past_tense} {adverb} right in front of me!\n",
        "    It was one of the strangest things I've ever seen.\n",
        "    \"\"\"\n",
        "    # Print Stroy\n",
        "    print(\"\\nMad Libs story:\")\n",
        "    print(story)\n",
        "\n",
        "\n",
        "# Call the main function when \"run\", no need to edit anything below!\n",
        "if __name__ == \"__main__\":\n",
        "    main()\n",
        "\n"
      ]
    }
  ]
}