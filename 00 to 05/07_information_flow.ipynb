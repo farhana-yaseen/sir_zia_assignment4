{
  "nbformat": 4,
  "nbformat_minor": 0,
  "metadata": {
    "colab": {
      "provenance": [],
      "authorship_tag": "ABX9TyOuda50PjGsKpa24zYq++xs",
      "include_colab_link": true
    },
    "kernelspec": {
      "name": "python3",
      "display_name": "Python 3"
    },
    "language_info": {
      "name": "python"
    }
  },
  "cells": [
    {
      "cell_type": "markdown",
      "metadata": {
        "id": "view-in-github",
        "colab_type": "text"
      },
      "source": [
        "<a href=\"https://colab.research.google.com/github/farhana-yaseen/sir_zia_assignment4/blob/main/07_information_flow.ipynb\" target=\"_parent\"><img src=\"https://colab.research.google.com/assets/colab-badge.svg\" alt=\"Open In Colab\"/></a>"
      ]
    },
    {
      "cell_type": "markdown",
      "source": [
        "**00_choosing_returns**"
      ],
      "metadata": {
        "id": "EpSj9CBlogrT"
      }
    },
    {
      "cell_type": "code",
      "execution_count": null,
      "metadata": {
        "id": "WY1BhzRIodoM"
      },
      "outputs": [],
      "source": [
        "BOLD =\"\\033[1m\"\n",
        "ITALIC = \"\\033[3m\"\n",
        "RESET = \"\\033[0m\"\n",
        "\n",
        "ADULT_AGE : int = 18 # U.S. age\n",
        "\n",
        "def is_adult(age):\n",
        "\n",
        "  if age >= ADULT_AGE:\n",
        "    return True\n",
        "  else:\n",
        "    return False\n",
        "\n",
        "def main():\n",
        "  user_age = int(input(\"How old is this person?:\"))\n",
        "  is_adult_result = is_adult(user_age)\n",
        "  print(f\"\\n{BOLD}{ITALIC}{is_adult_result}{RESET}\")\n",
        "\n",
        "  if is_adult_result:\n",
        "    print(f\"\\n{BOLD}{ITALIC}This person is an adult.{RESET}\")\n",
        "  else:\n",
        "    print(f\"\\n{BOLD}{ITALIC}This person is not an adult.{RESET}\")\n",
        "\n",
        "\n",
        "\n",
        "# This provided line is required at the end of\n",
        "# Python file to call the main() function.\n",
        "if __name__ == '__main__':\n",
        "    main()"
      ]
    },
    {
      "cell_type": "markdown",
      "source": [
        "**01_greetings**"
      ],
      "metadata": {
        "id": "bUvfGHkXomsS"
      }
    },
    {
      "cell_type": "code",
      "source": [
        "BOLD =\"\\033[1m\"\n",
        "ITALIC = \"\\033[3m\"\n",
        "RESET = \"\\033[0m\"\n",
        "\n",
        "def main():\n",
        "  name = input(\"Enter your name: \")\n",
        "  greeting = greet(name)\n",
        "  print(f\"{BOLD}{ITALIC}{greeting}{RESET}\")\n",
        "\n",
        "def greet(name):\n",
        "  return f\"\\nHello, {name}!\"\n",
        "\n",
        "\n",
        "# This provided line is required at the end of\n",
        "# Python file to call the main() function.\n",
        "if __name__ == '__main__':\n",
        "    main()"
      ],
      "metadata": {
        "id": "wTGpn3rWosCc"
      },
      "execution_count": null,
      "outputs": []
    },
    {
      "cell_type": "markdown",
      "source": [
        "**02_in_range**"
      ],
      "metadata": {
        "id": "BNy844hboskb"
      }
    },
    {
      "cell_type": "code",
      "source": [
        "# Implement the following function which takes in 3 integers as parameters:\n",
        "\n",
        "def main():\n",
        "\n",
        "  # Test values for n, low, and high\n",
        "    n = int(input(\"Enter the number (n): \"))\n",
        "    low = int(input(\"Enter the low range: \"))\n",
        "    high = int(input(\"Enter the high range: \"))\n",
        "\n",
        "    # Call in_range function and print the result\n",
        "    if in_range(n, low, high):\n",
        "        print(f\"{n} is between {low} and {high}.\")\n",
        "    else:\n",
        "        print(f\"{n} is not between {low} and {high}.\")\n",
        "\n",
        "\n",
        "def in_range(n, low, high): #\"\"\" Returns True if n is between low and high, inclusive. high is guaranteed to be greater than low. \"\"\"\n",
        "  if n >= low and n <= high:\n",
        "    return True\n",
        "  # we could have also included an else statement, but since we are returning, it's fine without!\n",
        "  return False\n",
        "\n",
        "\n",
        "\n",
        "# This provided line is required at the end of\n",
        "# Python file to call the main() function.\n",
        "if __name__ == '__main__':\n",
        "    main()"
      ],
      "metadata": {
        "id": "_Q1-V6Mkoxr4"
      },
      "execution_count": null,
      "outputs": []
    },
    {
      "cell_type": "markdown",
      "source": [
        "**03_in_stock**"
      ],
      "metadata": {
        "id": "sBR3ab3KoyVO"
      }
    },
    {
      "cell_type": "code",
      "source": [
        "def main():\n",
        "    fruit = input(\"Enter a fruit: \")\n",
        "    stock = num_in_stock(fruit)\n",
        "    if stock == 0:\n",
        "        print(f\"{fruit} is not in stock.\")\n",
        "    else:\n",
        "        print(f\"There are {stock} {fruit}(s) in stock.\")\n",
        "\n",
        "def num_in_stock(fruit):\n",
        "    inventory = {\n",
        "        \"apple\": 50,\n",
        "        \"banana\": 30,\n",
        "        \"pear\": 1000,\n",
        "        \"orange\": 200,\n",
        "        \"grape\": 150,\n",
        "    }\n",
        "    # Return the number of the fruit in inventory if it exists, otherwise return 0\n",
        "    # .get() method in Python is used to retrieve a value from a dictionary by specifying a key.\n",
        "    return inventory.get(fruit.lower(), 0)\n",
        "\n",
        "# This provided line is required at the end of\n",
        "# Python file to call the main() function.\n",
        "if __name__ == '__main__':\n",
        "    main()\n"
      ],
      "metadata": {
        "id": "Sa_Y7KtnpkgY"
      },
      "execution_count": null,
      "outputs": []
    },
    {
      "cell_type": "markdown",
      "source": [
        "**04_multiple_returns**"
      ],
      "metadata": {
        "id": "pQkfbJVqpk3u"
      }
    },
    {
      "cell_type": "code",
      "source": [
        "def get_user_data():\n",
        "    # Ask for user information and store it in variables\n",
        "    first_name = input(\"What is your first name?: \")\n",
        "    last_name = input(\"What is your last name?: \")\n",
        "    email = input(\"What is your email address?: \")\n",
        "\n",
        "    # Return the collected data as a tuple\n",
        "    return first_name, last_name, email\n",
        "\n",
        "def main():\n",
        "    user_data = get_user_data()\n",
        "    print(f\"Received the following user data: {user_data}\")\n",
        "\n",
        "\n",
        "\n",
        "# This provided line is required at the end of\n",
        "# Python file to call the main() function.\n",
        "if __name__ == '__main__':\n",
        "    main()"
      ],
      "metadata": {
        "id": "RPa-y5hKpzf1"
      },
      "execution_count": null,
      "outputs": []
    },
    {
      "cell_type": "markdown",
      "source": [
        "**05_subtract_7**"
      ],
      "metadata": {
        "id": "8UaAIRlPp0Bn"
      }
    },
    {
      "cell_type": "code",
      "source": [
        "# Fill out the subtract_seven helper function to subtract 7 from num, and fill out the main() method to call the subtract_seven helper function! If you're stuck, revisit the add_five example from lecture.\n",
        "\n",
        "def main():\n",
        "    num = int(input(\"Enter a number: \"))\n",
        "    result = subtract_seven(num)\n",
        "    print(f\"The result of subtracting 7 from {num} is {result}.\")\n",
        "\n",
        "# Helper function to subtract 7 from num\n",
        "def subtract_seven(num):\n",
        "    return num - 7\n",
        "\n",
        "# This provided line is required at the end of\n",
        "# Python file to call the main() function.\n",
        "if __name__ == '__main__':\n",
        "    main()"
      ],
      "metadata": {
        "id": "y9WyWQlXp9Ce"
      },
      "execution_count": null,
      "outputs": []
    },
    {
      "cell_type": "code",
      "source": [
        "def main():\n",
        "\tnum: int = 7\n",
        "\tnum = subtract_seven(num)\n",
        "\tprint(\"This should be zero: \", num)\n",
        "\n",
        "def subtract_seven(num):\n",
        "\tnum = num - 7\n",
        "\treturn num\n",
        "\n",
        "\n",
        "if __name__ == '__main__':\n",
        "    main()"
      ],
      "metadata": {
        "id": "tDS-ajwJjA1e"
      },
      "execution_count": null,
      "outputs": []
    }
  ]
}