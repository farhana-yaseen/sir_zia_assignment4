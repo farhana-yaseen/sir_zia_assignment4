{
  "cells": [
    {
      "cell_type": "markdown",
      "metadata": {
        "id": "view-in-github",
        "colab_type": "text"
      },
      "source": [
        "<a href=\"https://colab.research.google.com/github/farhana-yaseen/sir_zia_assignment4/blob/main/05_loops_control_flow.ipynb\" target=\"_parent\"><img src=\"https://colab.research.google.com/assets/colab-badge.svg\" alt=\"Open In Colab\"/></a>"
      ]
    },
    {
      "cell_type": "markdown",
      "metadata": {
        "id": "RF7eNBXdOHYk"
      },
      "source": [
        "**00_guess_my_number**"
      ]
    },
    {
      "cell_type": "code",
      "source": [
        "\n",
        "import random\n",
        "\n",
        "def main():\n",
        "\n",
        "    number = random.randint(0,99)\n",
        "\n",
        "    print(\"I am thinking of a number between 0 and 99...\")\n",
        "\n",
        "    guess = int(input(\"\\nGuess a number between 0 and 99: \"))\n",
        "\n",
        "    while guess != number:\n",
        "        if guess > number:\n",
        "            print(\"😞 your guess {number} is too high!\")\n",
        "        else:\n",
        "            print(\"😞 your guess {number} is too low!\")\n",
        "\n",
        "        guess = int(input(\"Guess again: \"))\n",
        "\n",
        "    print(\"🎉🎉 congratulation!!! You guess right number! 🎉🎉\")\n",
        "\n",
        "\n",
        "# This provided line is required at the end of\n",
        "# Python file to call the main() function.\n",
        "if __name__ == '__main__':\n",
        "    main()\n"
      ],
      "metadata": {
        "id": "dyIsRdeUuKbk"
      },
      "execution_count": null,
      "outputs": []
    },
    {
      "cell_type": "markdown",
      "metadata": {
        "id": "NrT5dzGoOPbQ"
      },
      "source": [
        "**01_fibonacci**"
      ]
    },
    {
      "cell_type": "code",
      "execution_count": null,
      "metadata": {
        "id": "8nRYeJlhOVyB"
      },
      "outputs": [],
      "source": [
        "\n",
        "# Constant for the maximum Fibonacci value\n",
        "MAX_VALUE = 10000\n",
        "\n",
        "def main():\n",
        "\n",
        "# Starting values for the Fibonacci sequence\n",
        "  current_term = 0\n",
        "  next_term = 1\n",
        "\n",
        "  print(\"Fibonacci sequence up to\", MAX_VALUE, \":\")\n",
        "\n",
        "  while current_term <= MAX_VALUE:\n",
        "    print(current_term, end=\" \")\n",
        "    #     a, b = b, a + b\n",
        "    current_term, next_term = next_term, current_term + next_term\n",
        "\n",
        "\n",
        "\n",
        "\n",
        "\n",
        "# This provided line is required at the end of\n",
        "# Python file to call the main() function.\n",
        "if __name__ == '__main__':\n",
        "    main()"
      ]
    },
    {
      "cell_type": "markdown",
      "metadata": {
        "id": "mSL7vQXdOWfk"
      },
      "source": [
        "**02_print_events**"
      ]
    },
    {
      "cell_type": "code",
      "execution_count": null,
      "metadata": {
        "id": "_x-Uk0WrOfhW"
      },
      "outputs": [],
      "source": [
        "# Write a program that prints the first 20 even numbers. There are several correct approaches, but they all use a loop of some sort. Do no write twenty print statements\n",
        "\n",
        "def main():\n",
        "\n",
        "    for num in range(20):\n",
        "      print(num * 2, end = \" \")\n",
        "\n",
        "\n",
        "\n",
        "# This provided line is required at the end of\n",
        "# Python file to call the main() function.\n",
        "if __name__ == '__main__':\n",
        "    main()"
      ]
    },
    {
      "cell_type": "markdown",
      "metadata": {
        "id": "9rP11EVzOgME"
      },
      "source": [
        "**03_wholesome_machine**"
      ]
    },
    {
      "cell_type": "code",
      "execution_count": null,
      "metadata": {
        "id": "aUooOFcaOmZc"
      },
      "outputs": [],
      "source": [
        "\n",
        "AFFIRMATION : str = \"I am capable of doing anything I put my mind to.\"\n",
        "\n",
        "# ANSI codes\n",
        "BLUE = \"\\033[94m\"\n",
        "BOLD = \"\\033[1m\"\n",
        "RESET = \"\\033[0m\"\n",
        "\n",
        "def main():\n",
        "\n",
        "    print(\"{BLUE}{BOLD}Welcome to the Wholesome Affirmation Machine!{RESET}\")\n",
        "\n",
        "    # Keep asking until they get it right\n",
        "    while True:\n",
        "\n",
        "      print(f\"\\nPlease type the following affirmation: {AFFIRMATION}\")\n",
        "\n",
        "      user_input = input()    # waits silently for user input\n",
        "\n",
        "\n",
        "\n",
        "      if user_input == AFFIRMATION:\n",
        "        print(f\"\\n{BLUE}{BOLD}✅✅✅ That's right! ✅✅✅{RESET}\")\n",
        "        break\n",
        "      else:\n",
        "        print(f\"\\n{BLUE}{BOLD}❌❌❌ That was not the affirmation.! ❌❌❌{RESET}\")\n",
        "\n",
        "# This provided line is required at the end of\n",
        "# Python file to call the main() function.\n",
        "if __name__ == '__main__':\n",
        "    main()"
      ]
    },
    {
      "cell_type": "markdown",
      "metadata": {
        "id": "NSTvZSNmOnLU"
      },
      "source": [
        "**04_liftoff**"
      ]
    },
    {
      "cell_type": "code",
      "execution_count": null,
      "metadata": {
        "id": "c18VYbdyOsXF"
      },
      "outputs": [],
      "source": [
        "# Write a program that prints out the calls for a spaceship that is about to launch. Countdown from 10 to 1 and then output Liftoff!\n",
        "\n",
        "def main():\n",
        "\n",
        "    for num in range(10, 0, -1):\n",
        "      print(num)\n",
        "    print(\"Liftoff!\")\n",
        "\n",
        "\n",
        "# This provided line is required at the end of\n",
        "# Python file to call the main() function.\n",
        "if __name__ == '__main__':\n",
        "    main()"
      ]
    },
    {
      "cell_type": "markdown",
      "metadata": {
        "id": "PqbMcpNIOs7B"
      },
      "source": [
        "**05_double_it**"
      ]
    },
    {
      "cell_type": "code",
      "execution_count": null,
      "metadata": {
        "id": "ySM1aSI7OzpY"
      },
      "outputs": [],
      "source": [
        "# Write a program that asks a user to enter a number. Your program will then double that number and print out the result. It will repeat that process until the value is 100 or greater.\n",
        "\n",
        "\n",
        "def main():\n",
        "\n",
        "    # Ask the user to enter a number\n",
        "  curr_value = int(input(\"Enter a number: \"))\n",
        "\n",
        "  # Double the number and print each result until it's 100 or more\n",
        "  while curr_value < 100:\n",
        "    curr_value = curr_value * 2\n",
        "    print(curr_value, end=\" \")\n",
        "\n",
        "\n",
        "\n",
        "# This provided line is required at the end of\n",
        "# Python file to call the main() function.\n",
        "if __name__ == '__main__':\n",
        "    main()"
      ]
    }
  ],
  "metadata": {
    "colab": {
      "provenance": [],
      "authorship_tag": "ABX9TyNG2sftctw0xdvK/XpulLGH",
      "include_colab_link": true
    },
    "kernelspec": {
      "display_name": "Python 3",
      "name": "python3"
    },
    "language_info": {
      "name": "python"
    }
  },
  "nbformat": 4,
  "nbformat_minor": 0
}