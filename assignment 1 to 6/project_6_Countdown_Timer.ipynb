{
  "nbformat": 4,
  "nbformat_minor": 0,
  "metadata": {
    "colab": {
      "provenance": [],
      "authorship_tag": "ABX9TyPSJs9L25kL+RHcTcweodHR",
      "include_colab_link": true
    },
    "kernelspec": {
      "name": "python3",
      "display_name": "Python 3"
    },
    "language_info": {
      "name": "python"
    }
  },
  "cells": [
    {
      "cell_type": "markdown",
      "metadata": {
        "id": "view-in-github",
        "colab_type": "text"
      },
      "source": [
        "<a href=\"https://colab.research.google.com/github/farhana-yaseen/sir_zia_assignment4/blob/main/project_6_Countdown_Timer.ipynb\" target=\"_parent\"><img src=\"https://colab.research.google.com/assets/colab-badge.svg\" alt=\"Open In Colab\"/></a>"
      ]
    },
    {
      "cell_type": "markdown",
      "source": [
        "**Countdown Timer Python Project**"
      ],
      "metadata": {
        "id": "aJc60u-7-Fh-"
      }
    },
    {
      "cell_type": "code",
      "execution_count": null,
      "metadata": {
        "id": "wEHKHXqK5aRk"
      },
      "outputs": [],
      "source": [
        "import time\n",
        "from IPython.display import clear_output   # for google colab timer\n",
        "\n",
        "def main():\n",
        "\n",
        "    print(\"Countdown Timer\")\n",
        "    print(\"-\"*20)\n",
        "\n",
        "    def timer_display(t):\n",
        "\n",
        "      while t:    # loop run until t==0 (t means seconds)\n",
        "        # if t = 125 , divmod(125, 60) 125/60 :mins = 2, secs = 5\n",
        "        mins, secs = divmod(t, 60)\n",
        "\n",
        "        # 02:05, 02 minutes, 05 seconds.\n",
        "        timer = '{:02d}:{:02d}'.format(mins, secs)\n",
        "\n",
        "        # for vs code timer\n",
        "        # \\r= counting don't move on next line update timer on same row\n",
        "        #print(timer, end=\"\\r\")\n",
        "\n",
        "        # for google colab timer\n",
        "        clear_output(wait=True)\n",
        "        print(timer)\n",
        "\n",
        "\n",
        "        # on every iteration 1 second pause\n",
        "        time.sleep(1)\n",
        "\n",
        "        t -= 1\n",
        "\n",
        "      # Ensure 00:00 shows clearly after loop\n",
        "      print(\"00:00\")\n",
        "      print(\"Time's up!\")\n",
        "\n",
        "\n",
        "    t = int(input(\"\\nEnter the number of seconds: \"))\n",
        "\n",
        "    # call function\n",
        "    timer_display(t)\n",
        "\n",
        "if __name__ == \"__main__\":\n",
        "    main()"
      ]
    }
  ]
}