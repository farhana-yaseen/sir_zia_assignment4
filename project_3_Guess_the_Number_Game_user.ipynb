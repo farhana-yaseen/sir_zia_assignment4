{
  "nbformat": 4,
  "nbformat_minor": 0,
  "metadata": {
    "colab": {
      "provenance": [],
      "authorship_tag": "ABX9TyPQ/Pf9jWnEwow6HRwoZjOv",
      "include_colab_link": true
    },
    "kernelspec": {
      "name": "python3",
      "display_name": "Python 3"
    },
    "language_info": {
      "name": "python"
    }
  },
  "cells": [
    {
      "cell_type": "markdown",
      "metadata": {
        "id": "view-in-github",
        "colab_type": "text"
      },
      "source": [
        "<a href=\"https://colab.research.google.com/github/farhana-yaseen/sir_zia_assignment4/blob/main/project_3_Guess_the_Number_Game_user.ipynb\" target=\"_parent\"><img src=\"https://colab.research.google.com/assets/colab-badge.svg\" alt=\"Open In Colab\"/></a>"
      ]
    },
    {
      "cell_type": "markdown",
      "source": [
        "**Guess the Number Game Python Project (user)**"
      ],
      "metadata": {
        "id": "lxcD0rEyoYgg"
      }
    },
    {
      "cell_type": "code",
      "source": [
        "import random\n",
        "\n",
        "def computer_guess(x):\n",
        "    print(\"Number Guessing Game\\n\")\n",
        "    low = 1\n",
        "    high = x\n",
        "    feedback = ''\n",
        "\n",
        "    while feedback != 'c':\n",
        "        if low != high:\n",
        "            guess = random.randint(low, high)\n",
        "        else:\n",
        "            guess = low\n",
        "\n",
        "        feedback = input(f'Is {guess} too high (H), too low (L), or correct (C)? ').lower()\n",
        "        if feedback == 'h':\n",
        "            high = guess - 1\n",
        "        elif feedback == 'l':\n",
        "            low = guess + 1\n",
        "\n",
        "    print(f'Computer guessed your number, {guess}, correctly!')\n",
        "\n",
        "computer_guess(10)\n"
      ],
      "metadata": {
        "id": "iWgq8B1qtt7m"
      },
      "execution_count": null,
      "outputs": []
    }
  ]
}