{
  "nbformat": 4,
  "nbformat_minor": 0,
  "metadata": {
    "colab": {
      "provenance": [],
      "authorship_tag": "ABX9TyMRIpFc1Diah/u2T1bnBq+2",
      "include_colab_link": true
    },
    "kernelspec": {
      "name": "python3",
      "display_name": "Python 3"
    },
    "language_info": {
      "name": "python"
    }
  },
  "cells": [
    {
      "cell_type": "markdown",
      "metadata": {
        "id": "view-in-github",
        "colab_type": "text"
      },
      "source": [
        "<a href=\"https://colab.research.google.com/github/farhana-yaseen/sir_zia_assignment4/blob/main/Project_9_Python_website.ipynb\" target=\"_parent\"><img src=\"https://colab.research.google.com/assets/colab-badge.svg\" alt=\"Open In Colab\"/></a>"
      ]
    },
    {
      "cell_type": "markdown",
      "source": [
        "**Build a Python Website **"
      ],
      "metadata": {
        "id": "s8-RdFbRO-U-"
      }
    },
    {
      "cell_type": "code",
      "execution_count": null,
      "metadata": {
        "id": "gi_kTP6lOxnv"
      },
      "outputs": [],
      "source": [
        "# install streamlit and pyngrok (for display on browser)\n",
        "!pip install streamlit pyngrok --quiet\n",
        "!pip install pandas matplotlib\n"
      ]
    },
    {
      "cell_type": "code",
      "source": [
        "# @title Default title text\n",
        "# get authentication code from Go to https://dashboard.ngrok.com/get-started/setup (create a/c)\n",
        "                            # token\n",
        "!ngrok config add-authtoken 2wjj0ZpLIRN1Gp1rfr4VD8GWzFS_4MgQdTp1u7Pr6Dv7oipun"
      ],
      "metadata": {
        "id": "eeFTOgWfpdui"
      },
      "execution_count": null,
      "outputs": []
    },
    {
      "cell_type": "code",
      "source": [
        "# create file name website.py\n",
        "%%writefile website.py\n",
        "import streamlit as st\n",
        "import pandas as pd\n",
        "import matplotlib.pyplot as plt\n",
        "\n",
        "st.title('Simple Data Dashboard')\n",
        "\n",
        "# upload file menu\n",
        "upload_file = st.file_uploader('Upload CSV file', type=['csv'])\n",
        "\n",
        "if upload_file is not None:\n",
        "    df = pd.read_csv(upload_file)\n",
        "\n",
        "    st.subheader(\"Data Preview\")\n",
        "    st.write(df.head())\n",
        "\n",
        "    st.subheader(\"Data Summary\")\n",
        "    st.write(df.describe())\n",
        "\n",
        "    st.subheader(\"Filter Data\")\n",
        "    columns = df.columns.tolist()\n",
        "    selected_column = st.selectbox('Select column to filter by', columns)\n",
        "    unique_values = df[selected_column].unique()\n",
        "    selected_value = st.selectbox('Select value to filter', unique_values)\n",
        "\n",
        "    filtered_df = df[df[selected_column] == selected_value]\n",
        "    st.write(filtered_df)\n",
        "\n",
        "    st.subheader(\"Plot Data\")\n",
        "    x_column = st.selectbox('Select X-axis column', columns)\n",
        "    y_column = st.selectbox('Select Y-axis column', columns)\n",
        "\n",
        "    if st.button(\"Generate Plot\"):\n",
        "      st.line_chart(filtered_df.set_index(x_column)[y_column])\n",
        "else:\n",
        "  st.write(\"Please upload a CSV file.\")"
      ],
      "metadata": {
        "id": "r9Ya8Z54PmUA"
      },
      "execution_count": null,
      "outputs": []
    },
    {
      "cell_type": "code",
      "source": [
        "# Run Streamlit App in Colab using Pyngrok\n",
        "# Ngrok is a tool that creates a secure public URL (tunnel) to a web server running locally on your machine or virtual environment—like Google Colab.\n",
        "\n",
        "# install ngrok\n",
        "from pyngrok import ngrok\n",
        "\n",
        "# Kill previous tunnels (if any)\n",
        "ngrok.kill()\n",
        "\n",
        "# Run the Streamlit app\n",
        "!streamlit run website.py &>/content/logs.txt &\n",
        "\n",
        "# expose using correct args\n",
        "public_url = ngrok.connect(8501, \"http\")\n",
        "print(\"Streamlit app running at:\", public_url)\n",
        "\n",
        "\n"
      ],
      "metadata": {
        "id": "rpWAKWVLQE6S"
      },
      "execution_count": null,
      "outputs": []
    }
  ]
}