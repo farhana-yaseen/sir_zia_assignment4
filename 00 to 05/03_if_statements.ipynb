{
  "nbformat": 4,
  "nbformat_minor": 0,
  "metadata": {
    "colab": {
      "provenance": [],
      "authorship_tag": "ABX9TyMmO799XaaGmsRpf7rMWz31",
      "include_colab_link": true
    },
    "kernelspec": {
      "name": "python3",
      "display_name": "Python 3"
    },
    "language_info": {
      "name": "python"
    }
  },
  "cells": [
    {
      "cell_type": "markdown",
      "metadata": {
        "id": "view-in-github",
        "colab_type": "text"
      },
      "source": [
        "<a href=\"https://colab.research.google.com/github/farhana-yaseen/sir_zia_assignment4/blob/main/03_if_statements.ipynb\" target=\"_parent\"><img src=\"https://colab.research.google.com/assets/colab-badge.svg\" alt=\"Open In Colab\"/></a>"
      ]
    },
    {
      "cell_type": "markdown",
      "source": [
        "**01_print_events**"
      ],
      "metadata": {
        "id": "nduw0WdioNwf"
      }
    },
    {
      "cell_type": "code",
      "execution_count": null,
      "metadata": {
        "id": "DyuDB0VfoDfs"
      },
      "outputs": [],
      "source": [
        "# Write a program that prints the first 20 even numbers. There are several correct approaches, but they all use a loop of some sort. Do no write twenty print statements\n",
        "\n",
        "def main():\n",
        "\n",
        "    for i in range(20):\n",
        "      print(i*2, end=\" \")\n",
        "\n",
        "\n",
        "# This provided line is required at the end of\n",
        "# Python file to call the main() function.\n",
        "if __name__ == '__main__':\n",
        "    main()"
      ]
    },
    {
      "cell_type": "markdown",
      "source": [
        "**02_international_voting_age**"
      ],
      "metadata": {
        "id": "WGIEkuJuqaFd"
      }
    },
    {
      "cell_type": "code",
      "source": [
        "# Write a program which asks a user for their age and lets them know if they can or can't vote\n",
        "\n",
        "# Voting Age\n",
        "PETURKSBOUIPO_AGE : int = 16\n",
        "STANLAU_AGE : int = 25\n",
        "MAYENGUA_AGE : int = 48\n",
        "\n",
        "\n",
        "\n",
        "def main():\n",
        "\n",
        "    user_age = int(input(\"Enter your age: \"))\n",
        "\n",
        "    # Blue color ANSI code\n",
        "    BOLD = \"\\033[1m\"\n",
        "    BLUE = \"\\033[94m\"\n",
        "    RESET = \"\\033[0m\"\n",
        "\n",
        "    print(f\"\\nHow old are you? {BLUE}{BOLD}{user_age}{RESET}\")\n",
        "\n",
        "    if user_age >= PETURKSBOUIPO_AGE:\n",
        "        print(f\"You can vote in Peturksbouipo where the voting age is {PETURKSBOUIPO_AGE}.\")\n",
        "    else:\n",
        "        print(f\"You cannot vote in Peturksbouipo where the voting age is {PETURKSBOUIPO_AGE}.\")\n",
        "    if user_age >= STANLAU_AGE:\n",
        "        print(f\"You can vote in Stanlau where the voting age is {STANLAU_AGE}.\")\n",
        "    else:\n",
        "        print(f\"You cannot vote in Stanlau where the voting age is {STANLAU_AGE}.\")\n",
        "    if user_age >= MAYENGUA_AGE:\n",
        "        print(f\"You can vote in Mayengua where the voting age is {MAYENGUA_AGE}.\")\n",
        "    else:\n",
        "        print(f\"You cannot vote in Mayengua where the voting age is {MAYENGUA_AGE}.\")\n",
        "\n",
        "\n",
        "\n",
        "\n",
        "# This provided line is required at the end of\n",
        "# Python file to call the main() function.\n",
        "if __name__ == '__main__':\n",
        "    main()"
      ],
      "metadata": {
        "id": "8XsmqDXFqwYP"
      },
      "execution_count": null,
      "outputs": []
    },
    {
      "cell_type": "markdown",
      "source": [
        "**03_leap_year**"
      ],
      "metadata": {
        "id": "u9pkAaDTwdIN"
      }
    },
    {
      "cell_type": "code",
      "source": [
        "\n",
        "def main():\n",
        "\n",
        "    year = int(input(\"Enter a year: \"))\n",
        "\n",
        "    if year % 4 == 0:    # check if the year is divisible by 4.If it isn't, then it's not a leap year.\n",
        "      if year % 100 == 0:   # If it is divisible by 4, it checks if it's also divisible by 100. If yes, it might still not be a leap year\n",
        "        if year % 400 == 0: # But if it's divisible by 400, then it is a leap year after all\n",
        "          print(f\"{year} is a leap year.\")\n",
        "        else:\n",
        "          print(f\"{year} is not a leap year.\")  # If it's divisible by 100 but not 400, then it's not a leap year.\n",
        "      else:\n",
        "        print(f\"{year} is a leap year.\")  # If it’s divisible by 4 and not divisible by 100, then it is a leap year.\n",
        "    else:\n",
        "          print(f\"{year} is not a leap year.\")  # If it’s not divisible by 4, it's not a leap year.\n",
        "\n",
        "# This provided line is required at the end of\n",
        "# Python file to call the main() function.\n",
        "if __name__ == '__main__':\n",
        "    main()"
      ],
      "metadata": {
        "id": "Yvgi87XmwlbQ"
      },
      "execution_count": null,
      "outputs": []
    },
    {
      "cell_type": "markdown",
      "source": [
        "**04_tall_enough_to_ride**"
      ],
      "metadata": {
        "id": "v2CwFv-Rwl8X"
      }
    },
    {
      "cell_type": "code",
      "source": [
        "MINIMUM_HEIGHT = 50\n",
        "\n",
        "def main():\n",
        "\n",
        "  print(\"🎢 Welcome to the Amusement Park! 🎢 \\n\")\n",
        "  print(\"Press Enter without typing a number to exit.\\n\")\n",
        "\n",
        "\n",
        "  while True:\n",
        "\n",
        "    height_inpur = input(\"How tall are you (in inches)? \")\n",
        "\n",
        "    if height_inpur == \"\":  # Exit the loop if user presses Enter without input\n",
        "      break\n",
        "\n",
        "    try:\n",
        "        height = float(height_inpur)\n",
        "\n",
        "    # This line catches the error that happens when Python tries to convert something non-numeric into a float.\n",
        "    except ValueError:\n",
        "        print(\"❗ Please enter a valid number or press Enter to quit.\")\n",
        "        continue\n",
        "\n",
        "\n",
        "    if height >= MINIMUM_HEIGHT:\n",
        "      print(\"🎠 You're tall enough to ride! 🎠\")\n",
        "    else:\n",
        "      print(\"🎈 You're not tall enough to ride, but maybe next year! 🎈\")\n",
        "\n",
        "  print(\"🎢 Thank you for visiting the Amusement Park! 🎢\")\n",
        "\n",
        "# This provided line is required at the end of\n",
        "# Python file to call the main() function.\n",
        "if __name__ == '__main__':\n",
        "    main()"
      ],
      "metadata": {
        "id": "HXWiEaqSwtqn"
      },
      "execution_count": null,
      "outputs": []
    },
    {
      "cell_type": "markdown",
      "source": [
        "**05_random_numbers**"
      ],
      "metadata": {
        "id": "PqiD_rj1wuJY"
      }
    },
    {
      "cell_type": "code",
      "source": [
        "import random\n",
        "\n",
        "def main():\n",
        "\n",
        "  for random_number in range(10):\n",
        "    value = random.randint(1,100)\n",
        "    print(value, end=\" \")  # end=\" \" To print multiple items on the same line.\n",
        "\n",
        "\n",
        "# This provided line is required at the end of\n",
        "# Python file to call the main() function.\n",
        "if __name__ == '__main__':\n",
        "    main()"
      ],
      "metadata": {
        "id": "Lau0ESMnwzkP"
      },
      "execution_count": null,
      "outputs": []
    }
  ]
}