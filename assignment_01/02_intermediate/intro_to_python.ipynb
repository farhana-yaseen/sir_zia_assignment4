{
  "nbformat": 4,
  "nbformat_minor": 0,
  "metadata": {
    "colab": {
      "provenance": [],
      "authorship_tag": "ABX9TyM/cQFXHDRslRPHq7Q8Kwf3",
      "include_colab_link": true
    },
    "kernelspec": {
      "name": "python3",
      "display_name": "Python 3"
    },
    "language_info": {
      "name": "python"
    }
  },
  "cells": [
    {
      "cell_type": "markdown",
      "metadata": {
        "id": "view-in-github",
        "colab_type": "text"
      },
      "source": [
        "<a href=\"https://colab.research.google.com/github/farhana-yaseen/sir_zia_assignment4/blob/main/intro_to_python.ipynb\" target=\"_parent\"><img src=\"https://colab.research.google.com/assets/colab-badge.svg\" alt=\"Open In Colab\"/></a>"
      ]
    },
    {
      "cell_type": "markdown",
      "source": [
        "**Mars Weight**"
      ],
      "metadata": {
        "id": "c0dKANbUMVDv"
      }
    },
    {
      "cell_type": "code",
      "execution_count": null,
      "metadata": {
        "colab": {
          "base_uri": "https://localhost:8080/"
        },
        "id": "hBVIJI7qMNbL",
        "outputId": "f3fe3f62-4908-44a9-bb7d-c55e4892f747"
      },
      "outputs": [
        {
          "output_type": "stream",
          "name": "stdout",
          "text": [
            "\n",
            "--------------------------------\n",
            "Enter a weight on Earth: 48\n",
            "Enter the name of a planet: Venus\n",
            "The equivalent weight on Venus: 42.67\n"
          ]
        }
      ],
      "source": [
        "\n",
        "# Gravity constants relative to Earth's gravity\n",
        "VENUS_GRAVITY = 0.889\n",
        "MERCURY_GRAVITY = 0.376\n",
        "MARS_GRAVITY = 0.378\n",
        "JUPITER_GRAVITY = 2.36\n",
        "SATURN_GRAVITY = 1.081\n",
        "URANUS_GRAVITY = 0.815\n",
        "NEPTUNE_GRAVITY = 1.14\n",
        "EARTH_GRAVITY = 1.0\n",
        "\n",
        "def main():\n",
        "    print(\"\")\n",
        "    print('--------------------------------')\n",
        "\n",
        "    # Prompt the user to enter their Earth weight\n",
        "    earth_weight = float(input(\"Enter a weight on Earth: \"))\n",
        "\n",
        "    # Prompt the user to enter a planet name\n",
        "    planet = input(\"Enter the name of a planet: \")\n",
        "\n",
        "    # Determine gravity multiplier based on the planet\n",
        "    if planet == \"Mercury\":\n",
        "        gravity_multiplier = MERCURY_GRAVITY\n",
        "    elif planet == \"Venus\":\n",
        "        gravity_multiplier = VENUS_GRAVITY\n",
        "    elif planet == \"Mars\":\n",
        "        gravity_multiplier = MARS_GRAVITY\n",
        "    elif planet == \"Jupiter\":\n",
        "        gravity_multiplier = JUPITER_GRAVITY\n",
        "    elif planet == \"Saturn\":\n",
        "        gravity_multiplier = SATURN_GRAVITY\n",
        "    elif planet == \"Uranus\":\n",
        "        gravity_multiplier = URANUS_GRAVITY\n",
        "    elif planet == \"Neptune\":\n",
        "        gravity_multiplier = NEPTUNE_GRAVITY\n",
        "\n",
        "    # Calculate weight on the selected planet\n",
        "    planet_weight = round(earth_weight * gravity_multiplier, 2)\n",
        "\n",
        "    # Display the result\n",
        "    print(f\"\\nThe equivalent weight on {planet}: {planet_weight}\")\n",
        "\n",
        "\n",
        "\n",
        "if __name__ == \"__main__\":\n",
        "    main()"
      ]
    }
  ]
}