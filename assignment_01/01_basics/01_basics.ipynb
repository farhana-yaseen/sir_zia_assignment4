{
  "nbformat": 4,
  "nbformat_minor": 0,
  "metadata": {
    "colab": {
      "provenance": [],
      "authorship_tag": "ABX9TyO5/IJaAWiZI5D49Sgmh7qo",
      "include_colab_link": true
    },
    "kernelspec": {
      "name": "python3",
      "display_name": "Python 3"
    },
    "language_info": {
      "name": "python"
    }
  },
  "cells": [
    {
      "cell_type": "markdown",
      "metadata": {
        "id": "view-in-github",
        "colab_type": "text"
      },
      "source": [
        "<a href=\"https://colab.research.google.com/github/farhana-yaseen/sir_zia_assignment4/blob/main/01_basics.ipynb\" target=\"_parent\"><img src=\"https://colab.research.google.com/assets/colab-badge.svg\" alt=\"Open In Colab\"/></a>"
      ]
    },
    {
      "cell_type": "markdown",
      "source": [
        "**Joke Bot**"
      ],
      "metadata": {
        "id": "NqMRdtsInDgn"
      }
    },
    {
      "cell_type": "code",
      "execution_count": null,
      "metadata": {
        "id": "L2evpknAm2zx"
      },
      "outputs": [],
      "source": [
        "# Write a simple joke bot.\n",
        "\n",
        "PROMPT: str = \"What do you want? \"\n",
        "JOKE: str = \"\"\"\\nHere is a joke for you! \\nSophia is heading out to the grocery store. A programmer tells her: get a liter of milk, and if they have eggs, get 12.\n",
        "Sophia returns with 13 liters of milk. The programmer asks why and Sophia replies: 'because they had eggs'\"\"\"\n",
        "SORRY: str = \"\\nSorry I only tell jokes.\"\n",
        "\n",
        "def main():\n",
        "\n",
        "  user_input: str = input(PROMPT).strip().lower()\n",
        "\n",
        "  if user_input == \"joke\":\n",
        "    print(JOKE)\n",
        "  else:\n",
        "    print(SORRY)\n",
        "\n",
        "\n",
        "if __name__ == \"__main__\":\n",
        "    main()\n",
        "\n"
      ]
    },
    {
      "cell_type": "markdown",
      "source": [
        "**01_double_it**"
      ],
      "metadata": {
        "id": "IBGRfyM2q1Mk"
      }
    },
    {
      "cell_type": "code",
      "source": [
        "# Write a program that asks a user to enter a number. Your program will then double that number and print out the result. It will repeat that process until the value is 100 or greater.\n",
        "\n",
        "def main():\n",
        "\n",
        "  curr_value: int = int(input(\"Enter a number: \"))\n",
        "\n",
        "  while curr_value < 100:\n",
        "    curr_value = curr_value * 2\n",
        "    print(curr_value)\n",
        "\n",
        "# This provided line is required at the end of\n",
        "# Python file to call the main() function.\n",
        "if __name__ == '__main__':\n",
        "    main()\n"
      ],
      "metadata": {
        "id": "-fKedmjYq1s4"
      },
      "execution_count": null,
      "outputs": []
    },
    {
      "cell_type": "markdown",
      "source": [
        "**02_liftoff**"
      ],
      "metadata": {
        "id": "YmZEhJOlrJ_G"
      }
    },
    {
      "cell_type": "code",
      "source": [
        "\n",
        "def main():\n",
        "\n",
        "  for i in range(10):\n",
        "    print(10 - i)\n",
        "  print(\"Liftoff!\")\n",
        "\n",
        "\n",
        "# This provided line is required at the end of\n",
        "# Python file to call the main() function.\n",
        "if __name__ == '__main__':\n",
        "    main()"
      ],
      "metadata": {
        "id": "OEGWb1RTrRCX"
      },
      "execution_count": null,
      "outputs": []
    },
    {
      "cell_type": "markdown",
      "source": [
        "**03_guess_my_number**"
      ],
      "metadata": {
        "id": "HygumuR3rSBy"
      }
    },
    {
      "cell_type": "code",
      "source": [
        "import random\n",
        "\n",
        "def main():\n",
        "  random_number: int = random.randint(1, 99)\n",
        "  guess: int = int(input(\"Guess a number between 1 and 99: \"))\n",
        "\n",
        "  while guess != random_number:\n",
        "    if guess < random_number:\n",
        "      print(\"Your guess is too low\")\n",
        "    elif guess > random_number:\n",
        "      print(\"Your guess is too high\")\n",
        "    else:\n",
        "      print(\"Invalid input\")\n",
        "    guess = int(input(\"Guess again: \"))\n",
        "\n",
        "  print(\"Congrats! Your guess is right\")\n",
        "\n",
        "\n",
        "# This provided line is required at the end of\n",
        "# Python file to call the main() function.\n",
        "if __name__ == '__main__':\n",
        "    main()"
      ],
      "metadata": {
        "id": "-UKGgOAWrYg4"
      },
      "execution_count": null,
      "outputs": []
    },
    {
      "cell_type": "markdown",
      "source": [
        "**04_random_numbers**"
      ],
      "metadata": {
        "id": "zIEcfQqOrZFZ"
      }
    },
    {
      "cell_type": "code",
      "source": [
        "import random\n",
        "\n",
        "N_NUMBERS: int = 10\n",
        "MIN_VALUE: int = 1\n",
        "MAX_VALUE: int = 100\n",
        "\n",
        "def main():\n",
        "  print(\"Random numbers:\")\n",
        "  for i in range(N_NUMBERS):\n",
        "    print(random.randint(MIN_VALUE, MAX_VALUE))\n",
        "\n",
        "\n",
        "\n",
        "\n",
        "# This provided line is required at the end of\n",
        "# Python file to call the main() function.\n",
        "if __name__ == '__main__':\n",
        "    main()"
      ],
      "metadata": {
        "id": "hfvFkJ4LrfQF"
      },
      "execution_count": null,
      "outputs": []
    }
  ]
}